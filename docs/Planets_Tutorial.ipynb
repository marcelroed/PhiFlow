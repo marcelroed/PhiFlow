{
 "cells": [
  {
   "cell_type": "markdown",
   "metadata": {
    "pycharm": {
     "name": "#%% md\n"
    }
   },
   "source": [
    "# Solar System\n",
    "\n",
    "[![Google Collab Book](https://colab.research.google.com/assets/colab-badge.svg)](https://colab.research.google.com/github/tum-pbs/PhiFlow/blob/develop/docs/Planets_Tutorial.ipynb)\n",
    "\n",
    "\n",
    "This demo simulates the gravitational pull between multiple massive bodies.\n",
    "We will use Euler steps in time which do not preserve energy.\n",
    "\n",
    "[**Φ-Flow**](https://github.com/tum-pbs/PhiFlow)\n",
    "&nbsp;&nbsp;&nbsp; [**Documentation**](https://tum-pbs.github.io/PhiFlow/)\n",
    "&nbsp;&nbsp;&nbsp; [**API**](https://tum-pbs.github.io/PhiFlow/phi)\n",
    "&nbsp;&nbsp;&nbsp; [**Demos**](https://github.com/tum-pbs/PhiFlow/tree/master/demos)"
   ]
  },
  {
   "cell_type": "code",
   "execution_count": 1,
   "metadata": {
    "pycharm": {
     "name": "#%%\n"
    }
   },
   "outputs": [],
   "source": [
    "# !pip install phiflow"
   ]
  },
  {
   "cell_type": "markdown",
   "metadata": {
    "pycharm": {
     "name": "#%% md\n"
    }
   },
   "source": [
    "We use the convenience import of Φ<sub>Flow</sub> which imports the core submodules, such as `math` and `vis`."
   ]
  },
  {
   "cell_type": "code",
   "execution_count": 2,
   "metadata": {
    "pycharm": {
     "name": "#%%\n"
    }
   },
   "outputs": [],
   "source": [
    "from phi.flow import *"
   ]
  },
  {
   "cell_type": "markdown",
   "metadata": {
    "pycharm": {
     "name": "#%% md\n"
    }
   },
   "source": [
    "Let's define the initial positions for our planets.\n",
    "We stack the position vectors of the planets a long a new [*instance*](https://tum-pbs.github.io/PhiFlow/Math.html#shapes) dimension we call *planets*.\n",
    "Φ<sub>Flow</sub> also allows us to name the individual elements along that dimension. These names are part of the shape and will be present on all tensors derived from `x` that have this dimension."
   ]
  },
  {
   "cell_type": "code",
   "execution_count": 3,
   "metadata": {
    "pycharm": {
     "name": "#%%\n"
    }
   },
   "outputs": [
    {
     "data": {
      "text/plain": "\u001B[94m(x=0, y=0)\u001B[0m; \u001B[94m(x=10, y=0)\u001B[0m; \u001B[94m(x=0, y=12)\u001B[0m \u001B[92m(planetsⁱ=Sun,Earth,Mars, vectorᶜ=x,y)\u001B[0m"
     },
     "execution_count": 3,
     "metadata": {},
     "output_type": "execute_result"
    }
   ],
   "source": [
    "x = stack({\n",
    "    'Sun': vec(x=0, y=0),\n",
    "    'Earth': vec(x=10, y=0),\n",
    "    'Mars': vec(x=0, y=12)}, instance('planets'))\n",
    "x"
   ]
  },
  {
   "cell_type": "markdown",
   "metadata": {
    "pycharm": {
     "name": "#%% md\n"
    }
   },
   "source": [
    "We can plot these positions by constructing a `PointCloud`, using the `bounds` parameter to specify the axis range. Since the universe we are simulating is infinite, the `bounds` have no physical meaning in this case."
   ]
  },
  {
   "cell_type": "code",
   "execution_count": 4,
   "metadata": {
    "pycharm": {
     "name": "#%%\n"
    }
   },
   "outputs": [
    {
     "data": {
      "text/plain": "<Figure size 864x360 with 1 Axes>"
     },
     "execution_count": 4,
     "metadata": {},
     "output_type": "execute_result"
    },
    {
     "data": {
      "text/plain": "<Figure size 864x360 with 1 Axes>",
      "image/png": "[encoded data removed]"
     },
     "metadata": {
      "needs_background": "light"
     },
     "output_type": "display_data"
    }
   ],
   "source": [
    "COLOR = wrap(['#fcd700', '#006dfc', '#fc2e00'], instance(x))\n",
    "plot(PointCloud(x, bounds=Box(x=(-2, 12), y=(-1, 13))), color=COLOR)"
   ]
  },
  {
   "cell_type": "markdown",
   "metadata": {
    "pycharm": {
     "name": "#%% md\n"
    }
   },
   "source": [
    "Next, let's give the planets initial velocities so that they circle the sun.\n",
    "For a nice plot, we pass the vector-valued velocities as the `values` of our `PointCloud`."
   ]
  },
  {
   "cell_type": "code",
   "execution_count": 5,
   "metadata": {
    "pycharm": {
     "name": "#%%\n"
    }
   },
   "outputs": [
    {
     "data": {
      "text/plain": "<Figure size 864x360 with 1 Axes>"
     },
     "execution_count": 5,
     "metadata": {},
     "output_type": "execute_result"
    },
    {
     "data": {
      "text/plain": "<Figure size 864x360 with 1 Axes>",
      "image/png": "[encoded data removed]"
     },
     "metadata": {
      "needs_background": "light"
     },
     "output_type": "display_data"
    }
   ],
   "source": [
    "v = math.rotate_vector(x, PI/2)\n",
    "v = math.divide_no_nan(v, math.vec_length(v))\n",
    "plot(PointCloud(x, values=v, bounds=Box(x=(-2, 12), y=(-1, 13))), color=COLOR)"
   ]
  },
  {
   "cell_type": "markdown",
   "metadata": {
    "pycharm": {
     "name": "#%% md\n"
    }
   },
   "source": [
    "Next, we define the masses of our planets which will determine the gravitational pull.\n",
    "These also allow us to make our plot prettier by passing a `Sphere` as the elements of the `PointCloud`."
   ]
  },
  {
   "cell_type": "code",
   "execution_count": 6,
   "metadata": {
    "pycharm": {
     "name": "#%%\n"
    }
   },
   "outputs": [
    {
     "data": {
      "text/plain": "<Figure size 864x360 with 1 Axes>"
     },
     "execution_count": 6,
     "metadata": {},
     "output_type": "execute_result"
    },
    {
     "data": {
      "text/plain": "<Figure size 864x360 with 1 Axes>",
      "image/png": "[encoded data removed]"
     },
     "metadata": {
      "needs_background": "light"
     },
     "output_type": "display_data"
    }
   ],
   "source": [
    "masses = math.stack({'Sun': 1000, 'Earth': 10, 'Mars': 10}, instance('planets'))\n",
    "plot(PointCloud(Sphere(x, radius=masses**0.333 * .2), bounds=Box(x=(-2, 12), y=(-1, 13))), color=COLOR)"
   ]
  },
  {
   "cell_type": "markdown",
   "metadata": {
    "pycharm": {
     "name": "#%% md\n"
    }
   },
   "source": [
    "To Simulate our system, we define a simple update step, `simulation`, and iterate it to produce the position and velocity trajectories `xs` and `vs`.\n",
    "We use `iterate` instead of a `for`-loop because `iterate` can also stack all intermediate values to give us the full trajectory along the newly-defined `time` axis.\n",
    "This saves us from creating two lists, adding every element and manually stacking the values.\n",
    "\n",
    "Inside the simulation step, `math.pairwise_distances` computes all body-body distances, adding a new instance dimension with the name `others` by default."
   ]
  },
  {
   "cell_type": "code",
   "execution_count": 7,
   "metadata": {
    "pycharm": {
     "name": "#%%\n"
    }
   },
   "outputs": [
    {
     "data": {
      "text/plain": "\u001B[92m(timeᵇ=101, planetsⁱ=Sun,Earth,Mars, vectorᶜ=x,y)\u001B[0m \u001B[94m-2.464 ± 7.704\u001B[0m \u001B[37m(-2e+01...1e+01)\u001B[0m"
     },
     "execution_count": 7,
     "metadata": {},
     "output_type": "execute_result"
    }
   ],
   "source": [
    "def simulate(x, v, dt=.5):\n",
    "    dx = math.pairwise_distances(x)\n",
    "    a = .01 * math.sum(math.divide_no_nan(math.rename_dims(masses, 'planets', 'others') * dx, math.vec_squared(dx) ** 1.5), 'others')\n",
    "    return x + v * dt, v + a * dt\n",
    "\n",
    "xs, vs = iterate(simulate, batch(time=100), x, v)\n",
    "xs"
   ]
  },
  {
   "cell_type": "markdown",
   "metadata": {
    "pycharm": {
     "name": "#%% md\n"
    }
   },
   "source": [
    "Let's plot the system trajectory as an animation!\n",
    "We can use the `time` dimension created above for the animation.\n",
    "Using `vis.overlay` allows us to plot multiple fields in one figure."
   ]
  },
  {
   "cell_type": "code",
   "execution_count": 8,
   "metadata": {
    "pycharm": {
     "name": "#%%\n"
    }
   },
   "outputs": [
    {
     "data": {
      "text/plain": "<matplotlib.animation.FuncAnimation at 0x1f43114cdc0>",
      "text/html": "<video width=\"864\" height=\"360\" controls autoplay loop>\n  <source type=\"video/mp4\" src=\"data:video/mp4;base64,AAAAIGZ0eXBNNFYgAAACAE00ViBpc29taXNvMmF2YzEAAAAIZnJlZQAAUldtZGF0AAACrwYF//+r\n3EXpvebZSLeWLNgg2SPu73gyNjQgLSBjb3JlIDE2MSByMzA0OCBiODZhZTNjIC0gSC4yNjQvTVBF\nRy00IEFWQyBjb2RlYyAtIENvcHlsZWZ0IDIwMDMtMjAyMSAtIGh0dHA6Ly93d3cudmlkZW9sYW4u\nb3JnL3gyNjQuaHRtbCAtIG9wdGlvbnM6IGNhYmFjPTEgcmVmPTMgZGVibG9jaz0xOjA6MCBhbmFs\neXNlPTB4MzoweDExMyBtZT1oZXggc3VibWU9NyBwc3k9MSBwc3lfcmQ9MS4wMDowLjAwIG1peGVk\nX3JlZj0xIG1lX3JhbmdlPTE2IGNocm9tYV9tZT0xIHRyZWxsaXM9MSA4eDhkY3Q9MSBjcW09MCBk\nZWFkem9uZT0yMSwxMSBmYXN0X3Bza2lwPTEgY2hyb21hX3FwX29mZnNldD0tMiB0aHJlYWRzPTEx\nIGxvb2thaGVhZF90aHJlYWRzPTEgc2xpY2VkX3RocmVhZHM9MCBucj0wIGRlY2ltYXRlPTEgaW50\nZXJsYWNlZD0wIGJsdXJheV9jb21wYXQ9MCBjb25zdHJhaW5lZF9pbnRyYT0wIGJmcmFtZXM9MyBi\nX3B5cmFtaWQ9MiBiX2FkYXB0PTEgYl9iaWFzPTAgZGlyZWN0PTEgd2VpZ2h0Yj0xIG9wZW5fZ29w\nPTAgd2VpZ2h0cD0yIGtleWludD0yNTAga2V5aW50X21pbj0xMCBzY2VuZWN1dD00MCBpbnRyYV9y\nZWZyZXNoPTAgcmNfbG9va2FoZWFkPTQwIHJjPWNyZiBtYnRyZWU9MSBjcmY9MjMuMCBxY29tcD0w\nLjYwIHFwbWluPTAgcXBtYXg9NjkgcXBzdGVwPTQgaXBfcmF0aW89MS40MCBhcT0xOjEuMDAAgAAA\nDn1liIQAEP/+94G/MstfIrrJcfnnfSyszzzkPHJdia640AAAAwAAAwAAAwAGIxI3/ofxeM38AAAD\nAAC3PZ4884HsqTMAV6BvqEgDeyGXaIH2pFC2c5GYjSa9wqWt2X8sl8L/xVMGeaRbssS2cDAoVuZD\njVvYsq123/AkCn/vW/fLdNeNL4G/DqIkPPvfhSbsNqwKKdYH/U/ldIPUDecwo4B+vwaqWKh+Sr0t\npkClfE+5HW/I3xl9RjD6PsLiI+Jutp7dLtpQu75OKqzT0wt8YAMkmBKrPxvGTBKxAcXg5qr21dfe\nEtJqAB8ieNa/nP0a6G82fSBwFwSmerZrZ6KHSlheY5jbYZWO50um5tIDoSKlEqap8untXxgNivb+\n/g1Hu2VAVbzhz+Zrg0okW3iBNU9XmNNddZCUMjPSJ9BLA54e0MkYK6PtAAADAO92MMOZ9tf3L4ki\n3Wj5nDQ24A+yPuK+fdDY2vomdu4slSqm2iWT5tl9Y/lYECvYk2E1Tv0FL7CadD18q73lflwnYbeu\nFJqHV51JHFO2rz0JwfVRzikVi4wcpXS2/wMCMK3Y4mi9P0SlrDHY2pcStXkOiezwR/z5UTqQIRwv\nqsgvbhFeToO7OG90AkRQWifB2DhOYZxBwSit9yqdcJUfVz6HbMtK+/yG8syZmn9Q77ZSudIMsIpk\nAb1h7K0sC79y++F+xqCZXL98unLVkzpNEnt+vuz2PdAzejNT8emd9h6Si0W3u+KHgHl2QPlXOnjH\nuUQcxYItlB16v6hfk0QBUmaUqo5oHicFiNcJoQb3kJ4pAjvlZIGqqtwT7Fks0M0PluyIUtNg9s2h\naM8k6F1ldUMgmoXwPKugpUWDUAF+b5N7pCfJjMyvEg9+fa3KL86gdO/Ry1W06qUODZmNVfVk9h98\nwZ5VT+/qyhP6UmGDLETCa15mFn2bmhNadj82SXe68he2UHftIeSbFDVVf7OvTxq0nF5kAe+xFPhj\n771GtXIe3mlrQDIpW7hMAD6visR0USZ2U/NASFtbUD2PJ7RmYKdDS2bIf+xEDOiAM19W9B36iynN\ndlixTGn/uxZ5jkGMiooUw2YyJFYgybUgJ25dxK7yHnU9qzOHlQryFp5+QvsH0vNSi6yJYTFRvG9z\nzBDLFHd00vSXPF6EItpj/7S5PlnJUPqtxVPdfIbeQABZ+AfKWL2FNwLDFXKDk1YCqxBdyVq3w0o/\nhyv1hZYq09lOTiNvkUa/527G7ZpRQFAbjhN55QuiktK1ygVj6b59nNT4yb+5x3BVQMyCAdcO3Ypz\njcNKeslxlM+ApVUjjEe/WxNhw2DxsA7qkSt5qvv+c5Wu/YXjP4svkoSAdu/Ys39JhRmiRGAkqyfd\nrSoVmOwK7VEU7WHqP5Dg9D/9KX9Fux7XAhf6eNG7l46Ux2e1wk89BAjFlaFyO4NK09xq+KlmIH7v\nCX0aevHkWQaS2bbEDxp4YcLkJFcxhPJIw41Uztlq/6C74L5Jrg9N5UZ0S2MTd4eqnna4D07pCvGc\nKUT+LFxpKa8aRSh60FBr/gOEind/jYTkURKa+lerzE8FhgqXb8nfCxA/qyHsC+ajzHbte+MwX2/W\nWXrLhi+lrShwEW5fNL20S2rc5wBpQCt/e1VJxL9CnmauVURkmy92oVsYlFnYiceoTU8zar4v/xn4\nZ8ojf6E9Qq6l6Lxa57TQD6q0oOiOz37yZvc1Ox0SSkLw5O6N9lvX0smrKeModsXnVbs2X1xd1ImZ\n0uHe6OfMF5XWU9HwVr/d5dJ456DSUpBTfWSPWkj8HD0zMfzUOEbrtMWY451eTYFV8MGpRKJpGrdI\ndZ7UMH36OSMjU8+MP7LqErfGld2KLdVIZq/IEetykzTx7cXHjx5ZYhNktX+1i68HigZmLR15T5p6\nQBuH5OllEz4hG0OXFDrAAGUAyifpFlZqtxYfu8Cd/0dk4R351/rgz28eeLUWWtg/MWnepT442p5h\nosrwQ9PN63cByJNTIOQWjD/EGGhJpWQFGz3Pv5vHfM8MkSuWfChHFXf4O+umrDO5Ep1Mn6/KpjXy\nXXIf8JlKE13xqG5BUSTpjag5uJc2U8MfGBKiSRqMgmUB6hQTrkdox1J5Xz6tbiCgcwR4OFp47o5P\nzyMGd8lg+og9MjqDjDuiZsikaDkbh/k2tFbJu3CIQfK8v/noUzEtHdHEJ4HWDO92zocZ465Grn1e\neXxiCyNWNaAa76S5+2kd0p3ylzXf3XuC/FGiQXudd26MEzen4+z5bk8Tfdb6vgtpUN+/hDNMYRQT\nHW90t0ioBfmYClojgi6o3Y08+wK4f3MJYhMSyoqgwesiMNY+AadLba9/jlYviNpr5P8Z+aX1ShNd\nujsfAXg9kO7J6OW18Mo8xlYO2AzV7UO81W7r7dZSALLvLpFroqwQuehUgCKU3YyMDfcYV/rug5Ck\nIMJQsNCRN8vapmllx7lzqjAC6U8f0ZKQ6ryAAH9vSga9LPb7m1fU57m1H9KF/iyyYhCVRfTQd6Mk\nQG5NoDqzaNzfyTpXR/8F82cj0SoBpBoMN5H/WqAHSswNle3+V3yfrL4l2++CZFZWSmfRTb32GHxc\nOzi0sBcZUsy0k5+08IuIQkJUOhBjF0ss2a6PHM+WKvdm92hXuboqR1XqpCbe6SDNrEUxMIvqc+f8\nhu5dwWgfILUalBgaFk4Bl6+lQqOekMutn//3Ki0ByehHoWAACnOAgB4A9QDh/pc+MtC+MTGdjwZk\nnZZKbaLDgZf3mZIlQMTmv6t7bS+19ZY0OivJBfsXHNjUbX+hWVUCmFXibugLY2xzmApSaaFUlcV8\nfKyFF01bTFF5k7a+BlMdJFNz+EvLE2f42/VHJGHXeq7lvB7W5LGUPaab3pedkaV39QojSrYQoKnZ\n8f07DvBxxsDX9hS2MhbjGdFEdq599oUxucoHGfwynBomGD4NA+KiEJHbLZU0RO55Q/709i1X0lOr\nG86AwgPbzgOMqlF4YARQcOhI8bbs9DSLHw08nw04fZCCGmV9aZ9B4uUvQNBWehXEs39wMguNe74u\nxtrjTu8O824hPSzmhhYCsDnZGeqMPIlDCwjk9ijV5N9/gUYt4Yl36lV9DbeHTyi3b//VygdQ3ox6\nqo89Exqs/a8+rQCN1r4YmBIcu4UF81h0lBgZ/R2iFaEGpeP6RUT8BvswhcXQ938+pfXl6+lQqOek\nMW+WwoQAcrRQTUA6hyG8K6btJ282nZZKbbDvs419CdbaPoE+xQPV0qPNr6ywUKWn0KnQVMQS1v8s\n9u5mlamKUtOmWuR/mZOHQgKxYcBm+TKlZjYB5Ap3In56RXmOu8P/NFW2a6Qt/m4EOaI98BTPGX20\n3sz5H4Lw8AJDwasRmoySm8AUWk2k127F2dd/ml5muiFhcI2XuQU0VUH23DR0FfR4s8kLKm6aDF8+\nr2EIl/Sr40UEw7QRYdQ97o5dti4e9Q1SfOfo7nM9C8gTSPwxR4SI0Gy1//+AVfNnSG6ziEfMnKFj\n0IEcOXshSqnCxmPXr16nAqG9GiK2y+aYk/zRua6LRe/wUKFNNGTvsfmTZMIDcPEDv/vWPUK05S3l\n68IcxmWD8iUHwpdrcZxvfPAdz5gmYMpm7OdgJNZvU7yoQ1AAAAMAFsFpDM/mlXBLBCq1XTLqUcYT\n/+dy/8f1cxlzwKGf9NjCQNSAxVUaaYVCZ6xtmCv5cJ5G/AcCB3LadHI5dNyAOFxIvCPzyY6V/I5z\npNFQ/QJXzZiD+Nbmqs1f8wwp9kv7XFAdSnMC2mTyoOZsloiGUHUHlF3BJ57nIlFX9V5v62ccjBqy\nm/nMnS8t85rkf1wgSCrW89gwLojoBLpaaXGQ11p7VUzKRpgjIwG/YCAZb5XKCifn14s/gXVr6Mah\nvzaqyyUHntX3amHTRTCPsu4DoS5TavoSDEw/wvbqq/uAA2ixtsrLw0YEgqTu1eXBG83iMQ7XXRG9\nKhAQ7IUe4pKA0FTL27/DrkB/UzLXPZ+Xb575+B8IjD3Uoj4wIR0XdQPjP+YKjcluQ6TO/x551BOp\nR4f+Ftl3asLaJ9B6BicExGufZpYvq+cFx44k7R/j0ynH9X5SoWiHPbLCVEtl4I9WNRjy06Z5CQce\noWmSAaZwcril8CNB1PlY69qCSL1T20J7bJ4eiRpmc+R78HgHl0ABqyfIhKwDwRH/Zeg1/jpzlvF1\n4hUUzQ10uqJ9kKUQRUv49II3qqzReANtPnbD1dE7+Bu+Wo7wm8oRcxbMY+HlvhlFvmOt7OR6t4IK\nCl3gATFpNTOVIu2xAr10k2Xw8G8IumtoSFLMv074uD1Sa5KQPv9p2HG2UX32lCy+MqLqdRlgOasX\ncNqs27dnqdy1OLowr/7AcCoJLvtdfzXo8tq673Lax41xzv/uSsfWm0VK9GThlI/BfPBhb/Wwfi7i\nehKRW3bI/S8//aqp5mHH/z6fk6pdMYpeYCLoUh62g/76iq9m/CKwB/MY9CtypK8A/XkJAZN3eAhJ\nsZ5RMIw0nAjjUXCNfmG9hlXpXcOIUyIiI36KSQ1kq2dOmvvYj6DkEY9xK3ALYA0msYMnxTcnis+o\nvVRATJbejmBohWYNjXFZd9RGOmt5KO+rbYyhSW/8dGdT8f0xkB/d6kPFI8F/d4cZ9/C1Xoc6ld8i\n5drkbmUjtXBfi2mSzPbJ/vZ+6MkSazd9WlVLurG2uuWC4T8k/8qMZYk06/bvTKeNVp7+81RoYTJD\nybgCSz7vsienp6zrSUq+RtndrFx1AX35Lcf3McTfpxz6WIqx7RFTy9fHW322P8lRSbACYAsF/+y1\nQ7TcTGrV7yWjggnQuVdykYXAzyXi1nr3hSorhv6Yjj9VZ4MvvHs7DGLx0I1MDIe6p8Cr8g0DSrIA\nAAMBN3nLuQ6S0mPQW/O4uYne7/J2lWdforsirQtqwpfRd6470MJaNjIaDrhE+j2XcaLAuNkt8Q8A\nAAMAAB2RAAACL0GaImxBD/6qVQAJgwQzAG1/Hf/P/SyNhBsepDIGMEVYMtv1+6Es8p7QOA/LHA1D\nvFE/rF+jtlbiDe8y3J1YTWeB3aOKGxjKjf09hRYGcFHf9Rzbmcpgks8NlO7/78K/NdjfVZlqSnWR\nqfesuhuL0ElSSUzzIX04bdHUt5Hl1+EE4cUQx/lHYNt5W9k13qx/kOzURL0U4dOIebm0eAypQFgR\noMo6ga8Pp+M4wVIqh+KLQtX0xZVKGV1WBlOUDtY3zSGXMK9olFVuKAu4eNP8ps6BINTZ0azp12qb\nZliNkI+E1Pb40VmJX51j7ozyCUGNGQXh4V35OdojjMQi4FZubR5TwzB3N/SB7u7MX6q+z0jIVHhe\n5kDWDY7Y7q8+klBHfMDagm9sMQzb8OjR7mR3QO8H0gHAd+FP9FRCM0SYDZ/YnPGmJobTvLSA4x29\nD26RBT+etI3B9eVQednNDpUJIM+CiAKsp6CUj92c2C35BujXtrpqw8DmF/dtdigia803hMk548vU\n56a2UY9TzTMADK4VKuWedU0lAGrH5PI1MOq2TceFJjVOtiHB9euW/jUI4aaiDMmtompbzvVY4QxF\n+zAFF/aLsevYp0O8+4MUYwU5YO0bIp4VznFYhP7kDSTznBiq34IBqek3KPWY/NkwWvZQKMkD+GaF\nX+oqO9X7qT4ddWBzBSdXl0NN8PM5CRASPAaYyUDW4afAuGa4ZSeCyGjOgFgzZ/eYwvzqG3jom/AA\nAAB2AZ5BeQ3/ABpgDoMxST4t5Z3QUagygAJ1VKOOXXn+sSlOfZuOTxwdU6BS05dfBFWazp/jdZMX\nEnWOvDS1AXQBZ6Ss+O5kOV0BUL/8sbNQwwXt6F82iJt1P8H/yDdYs9uuhd3M35X6dEbb/qyl7FQ4\nTTSRJ4npoQAAAPZBmkM8IZMphBD//qpVAAAfM4WVAYttkp1W3UtF/rNWGT1FRipK7eX7ZyLvi5ic\n6D+c2uR7VHj9W+QwAx2Xu4oUdurPY1Y6XsgMEpWKNES5K4F8cqgiNhH/kQyX1Zemhqq2s0VMQnts\nKdCdMhaGyfFs3IhA7EuRLnUCX9gvF8OPEIGywAr1T1d6xOQX1yLvHjVrBzWWrRPQazdXzGL1bSkX\nNOTa+TokLSbDXQeZEQimYeY8PNjZE1QHvNcEhaEx5iv/syRMR3s1p7c0DjdbI7rJ68utO0VPOOUq\nnSZgv//uPWhL+X6x3RA1hdvyYDnpHOh829CvsyoAAADDQZplSeEPJlMFPBD//qpVAAAfL3ahtsqo\nn4WVCaH80O73ml84ATSp3Tg1XYdaJQC35366dNZFeJ5pLqQC1MG2p/yL6rXAgZQ+UkU1lkUA+DLB\nKf4N1p3Mba9r2c+TlCHpHPqv1vqc0Oa+uW87Fd+/XLkZQU0/8lOgGBxFmQuYGh9qdGwd90QLL0EB\nWym7RaUQMivCN3G79kipo5vHEWMjP1sWMLhZHH5wLE7Lwe6t51cbxYCJq9RXzzZuqcTmKQn8OB0H\nAAAAdgGehGpDfwAAWE/3b4Xwt4nQ0+GHllLDepKfXawATrnrf26JYp5Co7hPytkLokr2H7FJH1Os\nYgNN2jUuH+BzHJC7UnZyfD50JVs5iDR262louGhSAris9PXhZZg9KMc2oInhvE7C7llbn1an0S1m\nd/VXW5qATcEAAADwQZqHSeEPJlMFPD///qmWAAB6CYJ5h4c8wrb1hLLQMWgNABxvDnoE+CyR2gnr\nMJ8/Em9SMj9+LdIUmBYBQvUrgUVEZ1Hu2YCDn8ejqX047MsxZ1LLnb+qwMRwq+Zf5qpf8J7QPsaz\nwb6+fQNKR0Z+LcmUVAFa4SbpM3NysYjDN8t8SIGUHW0HbUJOyuAbz/i++sOLSfsRZDBy5DvSX5/z\ns+bbutUcu8Y+aYwolMiJXWWWDDpH3h2Sw4wIuVyD0hbliVAXgBv1UlGmX+o0SQLURD7fYW79ZiYv\nxEJWSxbmZtStGDuY6JIJSDY2dOs3kx8xAAAAaAGepmpDfwAAWGhXsWDUlXpax7JpEGrjD4ACMeRJ\n/7d7le6yuG0ZNMyedcLi9p+j2yeht0mL06okbx1xW64SI+hnQ7bsTEhSB97KLRYyMdsPgqH6cnzu\n0OTeauJ1/fJU3WTL5ZaGvBqxAAAAlkGaqEnhDyZTAh///qmWAAB6CQ5mHY5MO5Ww4fnzJgmADhHb\ntBiX3rz6luEoggiYBMiyKyjZCEyZKmJ0FMeVVZ4Y/LusFtlvk+H4T7mah7m5vU/7ZvQ5VklYJRbu\nJn925JKlZX7eVe6GXhVrKSxwxoYO77ethfcXhkMO9A39q59cTq+EUu1iTAue/CqmT5LgTo56NQsg\nwAAAAMRBmslJ4Q8mUwIIf/6qVQAAHzLtEh/gchd6uqdJPdmumYFsaNHStiTe0CZWEDZ2feCimrnJ\nlEc9XWvAGe4452gP1bsda2SzykfjBS3U5a6mG/w7nMWMvw22SgVQGr/pYle83p1g49hUl6nIItQB\nJUg4dyW944cgKxgYAFKoaZYEh2ylU7oqrM83mH6T+6uAHNG56i0VGmrMyPfurQ4SPsKDH5IUHLda\nuOUe5VTP/Y/OrsJXc6cFVQSQ6exBtJLUT2pRaknAAAAAs0Ga6knhDyZTAgh//qpVAAAgBrWoF4FU\nX38PHVJ+E1QA362n0dMhGgswPS32vjGZK6ujCp3r6wBNuA8T3Py3jaF9YL/gkYSEcgrx5AO7Jl6y\nhtForpjmIF1+1JG635/q9M4QWT2NjjTpt1sOPEjHWtqgSFjhXod/ccrM/mCdqFgVFhT3x4nL1J4F\nqx98q1zCTO+cTHmsgbXOnS7JfurqKywxio1dEbTxyH63r2eQFGjjHC4JAAABE0GbDEnhDyZTBRE8\nEP/+qlUAACAGztbu0xJtQC7RYlpANWfePq30DgPWY9Kzd2VF1eIhk/lPMfTfnk4FzgXMOc0L1mah\nb6ZOOxdFBG9sL3uwGMAgXSrR5UKTjP3A+W+YA09R4llD6vakqFtFJcK9AOk+cOaTtVqInPzAr156\nisuv8Z72JQ6sbIvOy6/NOrLc6K0H1kxCEai3uir9DyFZUCz6O9xBXWVPu0a1yqRaluCpamAZcAjY\n0wJrghEHlXUXlVIqzw7Kx4GmuUdDtYDHIawIElAekHVVBcUtGpXDhW+ZCptZoTYxDLlalvn2KwU9\nPpzXlgzx6irQGopkrRf1wWLgB+zLZeEH5yDoQl9hPnXbkzSAAAAAVQGfK2pDfwAAWs9Gq9bCXCwa\nYFzeM1sqQAEYJ6/dhNpxG0n3fndeFlY9uODCgxYR42Bmb7iSu64WwitoFcso7nydzC4f23pFZf3k\nfF2HUbQAF9CQj4AAAADVQZsuSeEPJlMFPBD//qpVAAAgPzUp5rEK0q3NnLNLf14COXsl+YJOI6rs\n6VaETn0278F6B3ZoSllDCUvgvqYvaQPtO608I17EHP61uHOejsHfGfb/GkvaggSVz8+3ajud7u8y\nw4hBlKjsAeZ0hffcNjnzAb1qz5r5+2HUUgyucgPcUgYvCq+6tSZtNWtYEdshJnlajbrMrOWvX25B\ncBgBZdH34SXGqnckb6hH1mFa+d6//ZQ/kfm1/oK2h5kyj62y2ieRFehbZnf8nGPlXjye8/Gxm7Lp\nAAAAWQGfTWpDfwAAWtOkScJpII0iACdhEhbrZ0gXq08WuuVpHC/niYOY5ZQpvmgUVqrnj/kgdtY6\nWxrND1IsZDzs664ErA7Uj+wcAMIu8eH0/H4TZMRTCgAyuThxAAAA1UGbT0nhDyZTAgh//qpVAAAI\nRH2O0c5GJACFLRlECJlXCD8lInHnFhxFxXgVWs7MkIqPxmXws8zrwdqxvGPGPbPfhx+6y5YC75y1\nOkR2tCYRlrT0Bzt/LY6OLdHqdBH58644eQhuKDXrvGIOhrwyVMKs4dhtL5LRPBn+gH0pIHIi3vM3\n1tOu00dhy7SQcCIkG7SorVWmWWoOLjF5hiHWtXckWRWCuDxZWapO6fbSj9rf2Im9/TFqWZOcd00V\n13larDHQ0Q9q+QhvBl8c4Kl33GDCE8ApgQAAAR5Bm3JJ4Q8mUwIf//6plgAAIAq8bLvJzN51oGzQ\nGmAJausnhxUDQJKXCxnVHKUHeZWsU4E6yia6YtfMDYeF3Zn/BQgCPRjtrEOWlzYrOhp3aREwb39d\n0TvUDInBFmbZGptWUHM4ZvrDLYt0qebYgvBy1zOmTRt126jynDU77AXagzMBIbcBsk2tzx8823ua\naS4uFO1OPOcpL0ATkLiWy+O5lmPFU3npXCh05IuxkVy6I7DWZumEYv0FENbCpz5Y1lH66HV9TD5o\nYnoV+2YBMhdc/K+CnEAenODoaHmEANXQF6UVgvafYkIVP2tBMvg0bdbJYQBG4VcxKX//JajZn9HH\nRJoACt4IZ4ZJhKLs5EhgvV7+J2EAONhgdTnPfVtAAAAAU0GfkEURPDf/AAAX5TR8JQPj/aABOqD1\nmhurHUF2QJrpnngVPOXYbL4zrePS5uG6cSh4KZpTJuNR0eEIfgUVl6LtTXZIfTnTKAwYQKP0ploW\nIAEPAAAATQGfsWpDfwAAF+Lhb/UnijDQOus9Y3BM9/2QAI523IccQXbnF/EmdEve4XoGxUk/JYhG\nb4yfwBjHqFVCqICAql4DabI0YWYM6zAAAHNBAAAA6UGbs0moQWiZTAh///6plgAAIT/bXvsXDYcm\nmeocbPFjxF+yz3110QWaQEG24IO/v2WAGrldhpY9XNlMarsCnvMNuyLaveaOtbtfwk474mbmff7P\nnXS4/9+QjhYL8IWfeNXrYPk2m3hodzRtv2A5F+X6FAIuhkaA+Bmzt/oZGyWRazxabsOlox+W7Evt\n+dRmOR6A7CscL2JfyHrOfQ1eV5W67dzpuvjqrLDFbIla9KWkvq95kdtYpWR1mHYPeDYUTmDDcuqz\njKY90jrt8K8D5MAj36DEFRhx9PaE8jzGCf7gtJu4doR9TD7gAAAAw0Gb1EnhClJlMCH//qmWAAAh\nPVvXQr661YoMvf20Rl9bGXvB1vSZtycLsbs2gVh4aNhsEQFDnYpdin/7uKWc7wn1FJweQsj9UgEH\ngF/A4kQSwhZ8mX/0r3mv4Bfv/0zvKtTuxyptRkN/RAidRHcx9C4Lvwi0rORCGiDsvX3PlQCv7qkU\ny8Tgpqc55qkmKGpC6fXl8zsjAO/vZk//sX3dZRFhNRvc7KGVNmlqe5Nn/nvZc3RA7QsipBA8qQNg\n4NhZOpvW9AAAANxBm/VJ4Q6JlMCH//6plgAAIQYJFDkxt9PL+XmFyaA92oFKVVlAdCMlpnYNmwGI\nyJhRHkq3qEYNCQi4mUvoVM8lMpZpu7S8w48rWOnr9p+FG5wWa+ec4V29zIT/Qw27DV/Ghr9EsFbF\nNeLTSgWARMhueFCkbXcPoCeKsgpcPvtgKarSVDHH0MCzoNTtUv9XxLlKowiOOk4TGU/rl3raCnfu\nJE/L7lrSemKjk+WTcsVYGXnX5AldqK9QKNhksyPXq6Z1vn1nVEA61lRzLgB2lpCmFDg1EN3ZRIIV\n8DghAAAA+EGaFknhDyZTAgh//qpVAAAIj1b2eoyUMcePzecklfGhFnVt0RE4v5nBiJ/NJn9yAaUt\n9mWJWDk9Y+Tw1zrd/dgMlQAHplbUdGZotvVMZG9a6adf2rS+SjgrO4OSRIcR5U2H7+IfAd7cbNcT\nQp/zoySOHdUDZj9sg/9/hqsCE86YDMZxzffPgCCUT+yPQVM0LD8kIPshhjbpJnFsBl9J3H0hDRHy\n5Vf1d0l0BDTPoRRFL6va1HskADf41uNXYl/iXNNcxQtTo5yK3+Gp8+FmcNvRjld6sJBcZZF7X+CP\nXZZXjcN4wZyneaj0MtJO2W6tZ1o/Aqr/OAyoAAABHEGaOEnhDyZTBRE8P//+qZYAAB0/aO+ykEAV\nBGsFRa1OGpWuAxw5pUbB35cEJwsm1m7O/GJLR2hwaMHNj48UXum9jenGerUWnMmFVhqfGC1VWyEN\n10JnwHI4iULk/BCzEHcdos0qKFEkRWqMj6R6cfGnJlWOtCDSFleCljpSOSP6nudG4ZhPA6tbOdMJ\nhGzpECGEkwTr9t5LNQm+FTCWozr95fgzc27CDnfKyNCtAiv/UZH1E0De0gPtzo0cURBg+EAtf5mX\n65mCS3V3vcgfByrWYtnbf77oWIWdP55YUqCOT9shWtFzyOUbpdDPE8sqRS4jLwfb5Jsf3y4Qv3Uz\n4SKJKbpnObWHrHRUxgeUakUbej6CUtuxJTKEM7yBAAAATAGeV2pDfwAAFQPVoRsRcUUuaLw/FAb+\nECqEaYKTyw0AGx1F6V27xG4UnVrd1QKgrtNTygIZ2guaM5ZmJvHopGqFeRJtMP+3X4AAAkcAAADA\nQZpZSeEPJlMCCH/+qlUAAAd2r2GkwxVQAcBKo8wc3h+VdK2iOcP7YoO7DOBLOTBqfEf5vn9j4bKm\n16IjJzlLbMwZMIcjZj5JrmhCSdgeFHSXE8a85XEiL4EfVSWYQ1amM/QyGGHUHaZGd4LmLE2GWRvt\nKV2j9Ij9MrB4xkvPeVE/2UUx1WTW/Y76xRhwQAdLI48yo4SnA8/uIj+D9w9hbQ6U0N6G3JpFC+Q0\nkFf5vyEwtQ5qKA0H2GNZIWNR4FTMAAABLEGaeknhDyZTAgh//qpVAAAHc91YF1SHceABYDAnpV1k\nHc12EY3aqemrcs590IlCLXJCxiKdm3YdzdAUMChGd7OpZ04mxwPx6QrcDfX298zV8Xt8UJwv7Wof\nju3zKWQJr4E8thQIv00+1vBIBsgnSOWlxjtdtkOtc8lxrJW0TVY/fLHLnTJQZx7FoEldkMNUovwh\n9aLVEIwc4fKdcMIVTum/nRitAlDSQcLgfeCQ8e6Auwk0YeMqgfapFhSFA+M/LoXoZ9W3DnuMkxg4\nd8k/Hb+1ygDBpjV+85Ey6FGIbCJfWoCRdJfS/PDRmU+l1Q+uk22UdcBdqW+c/akArmLOicOZqFIG\nss5i7oTaE2cLJkvkNRSnOmkr9jSYqfcaU4iU1WhvUXJy9L7kFs6j4QAAAPdBmpxJ4Q8mUwURPBD/\n/qpVAAAHp9rhl5vAB/zkbmB3HXipT4O0HdDOYwCAJiAHDElrGX9Y7ZQkemH6Z7Jt/CJH0rArHiQc\nhgSicHCKudg9MbfKSkEWKzeiQAVSSMSmvBnk1zWA+u7uRs13H4lcY6kkEF2w3xluF//DnqRb/qOH\nkzYTNXGhhy5EZaYXcOC1idG8LZYwvUcVSZxbgWUFwB9Ivh1XmMq5yiPuay/2oQwEiyyZ3D4MTPG7\nDAjsI7vOUdHfgpvqS/kB4neLQ7Va0/eRLZZNHbWyxCC3P6ubmN2UDeoShtB7963XBJHR6UnkgTOf\nSGS4rL3QAAAASwGeu2pDfwAAFZPZR5pzRs+2xOhR4APs6gueRZuD4se/WuxvoRx20wy63u/+Es2j\nbVSyyykQfQSBF0TlYKLEPvf+9ue9McAAoLAXZwAAAQtBmr9J4Q8mUwIIf/6qVQAAB5/cR+D5e57z\nSiABO3yE3HxOpE7MYWs1WqBAOM4oNmUpilKtrDhwLJabxXDNJ/SZFwKKgub90v5V7Mwdg29au+YG\n4SRrAn1j6ebeobt34ax+4527yDiiUUN1sSNhGTEuDOfmj7MunfiqKJbHuYWNNUNKu1VHdxJ6xMA8\nP8Zmumqzxwl0ET+ist2JEh7T32bpfRlO/rtzHTwlP5tS47PmKjt0cdwVUNsnxfeVIj2N+RhQ2WIu\n5K8igrw6CvcZHik4ryqQeAkq6ok1vcg9YJQPk42n+600Oo6xyVLOUBvcmDLJtnOVBRnvWsleCy8C\n32Gsyf1mh5FO2OeF9Z8AAABcQZ7dRRE8N/8AABWQaIXepAAlZ6spi37eelWKrwz7qKLAeCsbN14w\noNGDh0IXFN/KPLd1VD7OFUS9MjDLHq1pciy3iQtmk+qCN4DDv78dZ4D3gPdXDzRaAFhSgCsAAABR\nAZ7+akN/AAAWJ5ubcjiGD3ACagIu9Mm8aEdEwGy50TI8IEDC3Cqjo9f2WyhI33Dtc78ABEy2jbP9\niEw1TOUUY5oibImWr3gbujScv7moAAIGAAABJkGa4UmoQWiZTBTwQ//+qlUAAB6C+H/75bDs9/Dx\nmQjBAAIIf6MAPH27MktSYMcUoLXKtGA/PDxTpCyCFZ70tvgKq3YEmmWmYvARYa+pVFst2/QrjWCz\nHTrn3WhfXh68277KoyBJmKpqV2pkfUFNJ1bFTCnEWKwlDD8KHpiSFnxEfbLg9NkY9DOLOdYv0OBN\nlY+b6Gpo5TfzVubB01uta9RH2JpdG6XNZrSWE+FdsD60c/ooFFMUEsAt7fvUovVIwydAnsHqSSb1\nbA2hBZFK8LBIlFJF2smD5i+N/uX+8uD4OATIUQcUIDeXGmX8giHGtMhA0QkKPiwP9iK95MNpM0H/\nEazILDJy5IxcmPiOYpuw5xazMJ9+iOnCUGMPnVJZnhNZZoMhLQAAAF4BnwBqQ38AAFZPQIzMiU3H\nuFDE1lyyeoShwYANpPXFefqOO3lDYYq4Uac599eXvxuc5ezxqFH+CQmsse90nHwbTLfF0uKqoNs7\nGZNCS6y+zxAUTY398n7SFo0AALyAAAAA+EGbAknhClJlMCCH//6qVQAAHoLrsoYWRdB/s+9oaJkA\nzaneCG+Yu0uD2U/kM6g4w4aL2x3f6P4veKvJ0HZtHMcMARyA5qsjZietPc5738QK682pSMuPR4GT\npGmDxFBxn+sfO/HcHByfkOjPNRjeV4uNthcnbxTT30+NIjhS9BjaXfQM2cIo6apFGBoqcvZFsNJw\nCYCqQC7dbtPmiTTBIqQ3AdPOTeJ3i700ngL85FoxbYNpirAm0as0rKcudA7FK3Mslxm+I1s0Rh46\nIJX6ieqjNboJrWCffLSgkhHSl+BvrDO02zvsI8RE8A1Jt4WHfaPcaacR9ZvnAAAA4kGbJEnhDomU\nwU0TBD/+qlUAAB6C9MyieWZbz1W8lSOwVJNOupI1mTnrdXJABJpI5mj9n60HsrFdwOKjI+IieZ9i\ndSLQCMc2vubf0QY13q1MjkvxxZ8pW2DgmPNmqOpW3WQVB8elKnqJ13H50hk7+jcSXmyIojOYU4Ge\nAGuqGTtp19G5fRy9JnInuCn3BMQHFtj9AOF0JBpzlAxk8K9BgXbIg1y61J0bpfTKDF8iJGDDGF5O\nICv/6dvnPvRmTGcvt0X+MeJbSnX1hlPwSzxb7A0NeZ5Fw05EDggp/KiDvDQACHgAAABNAZ9DakN/\nAABYnnmbKx1B/hr9FnPXQAfhaw+TFo4NmOqTdbs+NrDzX/oUYhfMNY+U4o6GxF/sLtdT/An+pCQA\nBdylcdUSstiYH8AADUkAAAD6QZtGSeEPJlMFPBD//qpVAAAeri/fLaAgH3tXGBIADhGVoLXSSs3T\nmTiLcHas+WRu0oRzcx7VATmDx62Zml1gVh0g4mGLXSkWFPaXxeztb++OtO+56jQvlPDZv7s2axxU\n9v/t+atWuLUhn7zcaln5uiNoEYSqjpu/+JP39s4Jm91mgDlI7unaj0k6uFD5GtKfA60N5MNAgnkU\nDlOlh25RQnJWBK5hpFsiViTOD1tBNYgNbSQxI8owI+/U9F7MFdIiZyu65ZdjOZjYjmz7JUvnonNn\nBZp/HXbYQ5fAKK8RyUP3VZCMf44nqQJbrsc5DY/B4YQLwz73SMJYBQAAAEgBn2VqQ38AAFimAui/\nmBtyWSJ4fJu56iACHz6wpA2TGgWpU+Db49C+6efAavle8ncwtCW73E2IaoKXXn7AfLk12pZXYMAA\nTMEAAADfQZtnSeEPJlMCCH/+qlUAAAgBrmYcMADjBn5b1DTE7FjbDAxzaTp+dZ7p8+nGCqJkOUyJ\nW9UYpdF179zSIYeP8XGKShualgNli/eIo/Zb1xH3AVnyL0mE9d3iMZzWrLMHkPy8Na1DH62+sTxu\n6oDK/ZLbeKNKUN+qK4Ppj1W2S/p+TPEfmYVCjznxfELDcGsBGn3dPDD8ygCJdhXSM/Szka1oOHmv\naXv8C7vzjJ4Mnhb+5hkoQ/fCXAoJNttRs4AcBKIsb5X1agaIQFBDkQy/CbzKVHWz0XCHiRhtNwGz\n0QAAAO5Bm4lJ4Q8mUwURPBD//qpVAAAIAL1byAkCdLnQAXLqQ9mHuK2V+cylVkzIgZQ0okhrmkGQ\nXdIuX83tdeK508X9o2Xh7tcJ5xJJ3CQmykkqSzsofoKe5lIb1oOWsoj5kYg+Ai5XaDtQxgcz0oVh\n/jAhbXavy5r+zkvpUbseMOsK3Ss6e7U35NzLvSYoRnwHW0fsE0KX8i9E4E13cwP0IQYlvkn2wei0\n0Uy2SZB+YN7VKJpGRUag8+Oqk43bgVTuTgmtM/YRziok8fSCO32EDo9+mxB8cO/YDpCG/UZRTjZo\nTQJvorKjgkmaR+rlnpbQAAAARQGfqGpDfwAAFrFo9Oq8D5ABKuieFPcoN6U3g0rQAkPmLqbh+Inu\n+RPMwqN8TYd45iC9um5XbYLQOpaPgXJ/9LgAi/2QVgAAAPVBm6tJ4Q8mUwU8EP/+qlUAAAgGA8fJ\nu2QvnPwAlk5lRJ/OI2npjTkh/9Qfy8eDVZiWFl5BnqBDiKdmr0HdTVurXUm+nnMLokGOA67GhwVE\nMvMeeZ+D3BA96jsoIRrqGhra6t+cb/dN4k6oX9HWg1zovBBzg2a6nxA1eG8QLo6LtYtB9RwmDOOC\nBfHPhvr34UDTYYjI5F/1VBdSIFOi6n73jRrMHVMdeP0M4tZ6wXD445zDPWpr34r3b0RpoLGf9V7t\nD0BHXOAKPd36ZDJCbIykse6i2FKUe6mAeRpkNYyCNn/b45zR4yNvIOKU3/8IYCygKHexGQAAAEwB\nn8pqQ38AABcLLbTw+JKD0gAGe69yVe29BzAtHdM9WHWgQl4qwRKDQ51WX2FOzhu0CdzoYuc3sUX+\nJIPlsxJ+wvLZciy+B2XiAAfMAAAA8UGbzUnhDyZTBTwQ//6qVQAACEJ6Zga+sjE0RkXkQrTZ3++L\nkp9tfzoy6tnSZ2oMkpFC8KkBKW3kRq718RSbFnIPXfhSw0zrOE7Jz5Wy5SKrCjFpYqgGSrlgzePv\nTdcZO9ggLHfOYo4EuvhCAzKbpv6K155PTrGuLb+XeiylhsLALL4E99oQwJNj53eHyBY3b7sLruJG\nd4NeQzx/eukpBt6EM23b9sEMi+Xf4VqiAZ+/NrHnElYfRRHdRyKRirCdC0mOeG5MUhUlpWNaTcHR\nVVjyzBfo9ZiGYMEQaK3f8cB7NfqAy9q2zD9CHLjdwy3zbqYAAABVAZ/sakN/AAAXR58Nnx/tAAh8\n8tLlUnTfT6Ajwd41Wuf84bVpYMxoFAzzRrYCYe6TbuKXKR5oVrOMEERAVNnxtgm7dBvSYKDDtK9E\nJWPBnjm4P4JRNwAAAQNBm+9J4Q8mUwU8Ef/+tSqAAAQhnFAY7/nTIdRU+t8UqE/emTO7hcODWC0j\nGuF7uCZVSpolmGVUe/2q+4JKkkbQEmWIICEG3mCJoDHfkPRIHqTp5e/7TPID55oJg5D8X+Zc1ezl\n1T6Q1VcNWLP1PDQDB/iyp7f3FnyRaip4b9IqplWzDTOscx5y8aoEwN6xyWwByl33EejlTTwP/zLj\nsf8qJRlg804L4F/SWbEY9UZ030pvMa1MBhV9g3F041vx1hdav2LJiux18PMgzbkz5MWQyf/2TapO\nhlkmhmOg/3JWbjrKn0unnWLeRlJ289neEWjmgFbgORRgrVYX8Ve2QbfCHEtBAAAASwGeDmpDfwAA\nFwstxA28/qmpzOXHDzj3MEpj5hABtM5Ly5Yy9d8aiPEx7lBvDwSjgZgAwU0f5UNWmWkrKN2KR4G/\nM7DeSgBXLNDqgQAAAP1BmhJJ4Q8mUwIIf/6qVQAACE9W9nqMiKInFJo5ISIQARZ/wih81lv70wkR\nEHrWS/4HuKiAy02ke9jbtoJV1u9tPPqIn5MKDv2MTrDNvxAim2od7g9EWA2WSjxEsqYO3noqHOtR\njbrCJgg2evy6fOZZSIHZZZ9Zwj9qjZm6vsQO1IC4c6Ptj8JU8gVg5RNhiPlXy2g2pZng+tmgfEel\nbQlGOwT97ToczI5CqsIYGUL9tz8Bt0GFshWFtetGS4ZHl6vfc4Jt+lrVY8C2Uw6ivHHmLgEyBbZc\nSnG9JzT48kj6a/i082ocaHvdZXlRug37G85Hm0ymq62hkzFny37AAAAAUUGeMEURPDf/AAAXABT9\nlhUbZt0BUHBzETGrvkFOIBm/+eVZozdo4BxOdDJrL5sgBD88jtL3IHrnJCx5aOKsRCkmMUSfbdRl\nGhM4bQyNiSgDpgAAAEYBnlFqQ38AABdD0Z+d0ffvRjDnRUEAK69LpjsUdR5weusH/rKpF/TrmZV2\noGulSWaD3PMwgbHnEXBrj4Dw5u9nmdgwAHHBAAABHkGaVUmoQWiZTAgh//6qVQAAAwIi6GsUoi1Z\nBOmAES8mCGEWmnVI8apVrupzc3KdXWCCItYIJ+/XdcTt4Gie65qDoWI8xwmQd/5+vRC13Gx5UFjm\nJw0yyBU26HoYvDC2EsJLCC3Pk8loev+B76kPb88O7tlt6t08QVIzEtk5pNrYIF30Qtvq2fqcA+Zm\nedzr8Qyco7qJjaZmjRe2d59gO3TTCqvfOvtue4Tfe9e0Fh1ZOzd8dIF/9AuFahHibFC5lEjialHt\nOngm4/wRHGwxNenPlLjRAOmGWxixacSShVXESHrqwzdvCnqYJ5HhfdONA+QF4JwnfupvEIOJ0wkH\naxH5Qk4M4Jp3lhgUuRvTQb2tdH1QsB357pip1CVxVoAAAABRQZ5zRREsN/8AAAX4lXlZBwA3AJN+\nai/IuLN2jcXNMWyugcRtelvuT70I395PyYwSjB/BtKtXv89RGjdCmLRzx19v9K/LdnZM4+os4lTO\n4AkYAAAALwGelGpDfwAABfb7xpT3Yb9Qup6wCCQWK+q1x6LcEY75QWk0RYPd9KWA+hk7AKCBAAAA\ntkGalkmoQWyZTAgj//61KoAAARBnzpHgDynYL8gPv/yYmGDkaime6cACHDzY2/Ug/b71N1QA7J0k\nojeyokCG/LktjW5V4V7J0W+ODwrvMffE5jBAI8NGS8oCLJjhUtqa0STYgnlh3MaJKH46uxRy2YzF\nqaLEHTMqqxBCvbjG+FhQw+CClo+RE0t4oS9+KqMmYZ27cHfVMp+joX9gkY4xBGwvMKZGGowwcHdr\nR4X5VAkSVH1/mgCAAAABFkGauUnhClJlMCCP//61KoAAARHr/vbwMBswnLrZpibY+qtA4TJMFO05\nMBMk4EqaOXr5rKMZ5NaczvBKZpXd+rKtN0DqKYHdxwXwaP2Y25IzLmn7YxfUMChm9B2mxE6orZIB\nXDjh8lvFB43iwXOfCopQ/5tz2TUd+GYlXvHsDwVN3BKyaFqpQ2wc9FMEmkyWWrxdIlufRUkLdBgS\n4PWC6dWQGgUP3QlANkn0T4D+jhy0kJ+20qg69ldnCB5zjoftX1ayQP6CRRsKw2DETjo3bs/2+z+6\ntgy4uZpCtSBg8otvr2o76lVx98MU7X0idOvG6AwJaEX5VePQfVTbnvt0BwoQ2Nc/jbUswgnrqIa8\nmQf2iQLthBXBAAAAXkGe10U0TDf/AAAF5Kc/ZYVG2bulANqDwiXBylT9GHb4Ga1sQATrBHDeuNEI\nw5PuLvH+HkpF2w/y7DsXP+5Pkj2VHpwUgTJ1/tPz1JwiQjAKujobzFzIH4n4X9FgImEAAABRAZ74\nakN/AAAF980nybZf2wBSkAOOBzW2HnRpjTgFzRD1MNPThBDyejaEqG+9+annhL0DuusB/D2YRiQU\nvzEEkrnrguKpzcxY5vY/g/eDIAMWAAABM0Ga/EmoQWiZTAgh//6qVQAAAwCM/21A1+m8zYx/o0r6\nSbK2aKjql6upUe9DZtsVkBbvFb3LmdRHWXnJt6KG/L+aiDHG6gxTgWWklImklArlfw6a13MZL1Ru\nq6wO5S6dQDzTNmVQ6tEwMOi3d+a4tQ1XfqoZVyGco3NsJGgoi3Qbacs9y41LqKY7vG2ZzeisHctF\nBprO1RrSYrZ67DSQqeTpFYtl9/8hca2HNgOWUEbuTVY84qh5lTHvt/aW7lpk47G7/LVjb8uCf5qR\nIZ86/rGa1yxQ02hU47Wb3YUHG6US64kGAsSnd8LQdez7nj2MsoCYo1bZCCvF2sSCvyf2oREkorII\nKIf9e1tJ2m8Dq3KKgBNynsbA8W7O9+K9b3WQYffNsTYgZ2x22FMUleEO5v6NPWEAAABxQZ8aRREs\nN/8AAAMBiCesnRyAI8mmQwYM46QJ462BJcZrcGEShOs5ZxeQN3+deTXDMm7UHyVJjWsNFdv6ogEW\nsI1sPqOBFCXwZ0+rWOYapxaWKcF+SR8gwBmf5uvFr6wQI8zgjIbuEHQTn9g+mcNMAtoAAABkAZ87\nakN/AAADAYfwT1FI3xFhIANpG1cvQGfMrncgtBPTvKFDvhvBUfMgT0LpsoGo/iuCf7uAnksMxCqE\nPI+/wzW4i3xId7ALDRm9RmC/h/9cg/7FZxfY2zwT82DWT89nGUBEwQAAAMRBmz5JqEFsmUwUTBD/\n/qpVAAADAIwbqpjC8cwkVciWgb74+1+aAALo0Okk8wSvYrxzC53UzD5pY0R1DFQ8CGDy5YVy1K+s\nyM47afbVvE8z8DtoaaLCPe1XUFPeL+6UCfCLQF3Q/6IsTMRgR6cubEQtyugoIFpSh9SOGLOoPMUL\nbW9xhnKRa+29FYz+WxIw1Y0Sc0GvvjLPuHGGMqjj9vt70gZgjLqEiRpqZR92X9ddXs8qavDsS3O6\nn7M/aZBls+12woefAAAAUAGfXWpDfwAAAwGILG5Hr8TatwBfg9ZjhZvVhIFPKYARAvVWPQtnQa3z\nczajEihZniw7Lke+v0yelo6ZbMhAB8Dt9vvcalLspFrBHdg1UBnwAAABgkGbQknhClJlMCCH//6q\nVQAAAwCM/NTU1iDxcc7jiKnzn9y5E5bJQr4YwQJgH1DToAlRnbdLbiWPZyaFTtTwqOmkb0I8koGd\nxihRvg+y9Cei1p37+TmXuqVLx/JzR5PCFgAfu7RdqjEN7NNbsU7IzxESWW5cXYhdadztCtYyjzVi\nopd1EjetKMBs0kkTfqZ/maBlDtcP5AJhlMrAR0ezXv/CK6u44WkJ03PfhReIgPM7HpU4MFyiR2aD\nJqH/v95LqRmlMI5+I3p+zTio8GYHj76CeLJvSZDw4UQ3Nv/gutSyH5ARoC/iSrlOmYwMXKvUlHlK\nzqr4piRK2H7AHAC/m/Fg+F7aiLfnFuF8BUjNSxiMb/rKKhb+ytFgasBSj8fkKD1qZ+RI+ZriLw4B\nBt5kCxbtnV3GnaGjEz5BhzlAuFxg+2PLz7h5hIMJqeG2Nkl7ONiPKEPqsTQIWRNsq7QhMYlxNV0Y\nn7G8FKGllYgv4IPYP8sNMTEmiOw8rckqZ3PRH5GAAAAAYEGfYEU0TDv/AAADARByTZep9oMcekAH\n9HieO8xkz5bjEvGuH0x/G4G2iKZ3LTcnB54J2uRDRo3lxI/5LPBckX1Emg4ageKEZdiTuvr10wmm\nnxe2NttN7LmwJ2uHM4AFTQAAAFUBn590Q38AAAMBh+qpVX4MDYRvUSBQAEL1t4IUkWX+Q55YLYWr\nGVHgEScT+Q4XSEvWjQ/Yjsw41MzmuJbk5EdNwB7zuMkjEEfN3+/N7HkFKu39YFJAAAAATAGfgWpD\nfwAAAwBiCjWDXYwI1wHikwnXvON80FNYNABqXYA/WFsJoHpAoYPdoKfxHvcMK1e7m6rmV03TyGmD\ntywZyO5RfkJPB/xygqcAAACeQZuDSahBaJlMCCH//qpVAAADACMHGtAWCiFffyUtzA2zZQqCOwAC\ndXsFtjwBbTyhfCelq1pRCg6mO9Unt2tMenPjmJQNVdhNEv+PbyxP64KIbbbs71ZRTPJ9H8BWU+Ah\nalSzkmGTEXLz/Yt2h6kPbq7yEW2RPw7lbwQpAZSHKUnUpmWYZEljAeE1GVAN35A9SdwI2/vpKgky\nLb80ndAAAADmQZukSeEKUmUwII///rUqgAAAEZ6/728DAbMJy1ucdeDVJsloCvAs+RVjF79FTL4O\nq++Q2fwjWBn6y4uKDvmVHW7SxJEOTdeuOjbO0kJWC8ySP8YJaDV6VK1NyN1pJeMg5atdjEjdG9l+\nAX8srm3LkddbYM5Fk0TM82HN1+HV00kLBsTC+YEOr8kjy9tP1CbD7MjoYf7dr05t039fZuH/7hwQ\nZoa5VnyEdoEZFjIjXOke7Z66qFq2EcXHpSgjTpT29xS92r5hbDZGMIj6uYMDwW/2bMhDN3K+OG/h\nr1g2fifTzlm4sMEAAAEkQZvHSeEOiZTAgj/+tSqAAAAEYZ88KWOoASgwC0VGAwe9A/c2LWC9MD8m\nJJ2QFmPVX9iYLS/cPDm98qPyGJz21Z7C/yQPQ3pkhGOHx9TcGK6tq63QyRoBoKir/TikAVf51WUE\n5LEp+r7gvKjHthfERoBfaSaENU5RMfMXFPHsR6hfy54X4YGQpD4i+pYBObcz0M4jispGC3E3Mhq1\n181PL9JJuXrZIU06PC3DiAWO1TFOB18VXPfnwKHSmVss6YTvbIn6VnQTR9ydvsW/dysXhnfU6jqv\nriyTpjYu+Uj9Hvdir6ReCNcFWcmYyHTy9v8zFM5U8PjR1yCepem0zhlllrvi6Sl2vE26UEY84f73\noRaNkTTLKFwkedPSH1bqFPYlyIbJnwAAAFdBn+VFETw3/wAAAwAZJCITr/nIJMq8mOWaNRd+EwN3\nQY/+i3z2AElerqkghKzAHWT1UKK1lm25MKnuM+8RYmfmJdzPxDyh2cqCyyc8MGBQM+CGpLanBs0A\nAABGAZ4GakN/AAADABki6at2AdJDR3cnWsyzYlimm2sgBJyLK314R3n/p3SmshcwZ7uNHuYTp157\nwKw0fVUNFGLE18yWkMwz4QAAAPdBmgpJqEFomUwII//+tSqAAAAPV/VwCXkXkyTQcpcfZVyeX7rb\n2keke+6or2mU4VWCHOOEuT1gEw0F7FQQJFiJCABMKmWF7792HU54mSjdJ8nLVDWuYJ81KrOVjp9L\nPdiHWgJ6jEDqjsFuvZvJgMul1tE6vZxMUvjK6Mvhux1OtenJcImf0o6WPKNEQLUxSX4QUhBAuAM/\n9GE+qvJPRrsSnaEh2pLhdlWzUp4CAsg838JzgdHMjZQCTHScOGD+0ln9CUbe4h92s9bItYv73Jy1\nEO7aNi34FSHYgov3Ab8qwiR/7rY4ghdCmaXtS31aHNKvxPpgKvEfAAAAQ0GeKEURLDf/AAADABkl\nNMJztpH+90/pQaBSGAD993Y48O8Z7EjQdBx7WMmQdaeG3jvazINbytHFpeU7l2xrDlh+ZSAAAAA8\nAZ5JakN/AAADABki6VxO3ClWKbxCvH+BvGvp+rS5eAAjCFh06wyiKpQSKZp0FBOXai7r8dAY9V6b\nIK2BAAAA/0GaTEmoQWyZTBRMEf/+tSqAAAAPQ9rKIsM1qiBwZ3ifFDDBRqc094MwEkgNUvitHgWc\nHlCnmz4G2BeMpP8POJqq1rpCoH2f5UfQIdRMNwY9NLbTh/nNl8gMpzP9+O1imxL2pPQioMGv1Bej\n5JS8X6GJcRf665vcud73fCazM9cehkVMsXpVctsbkFzi3SdP1C6BigSloYnXcCl1isT6bIafZLrI\nqCpWbVF/jdWatqOZAScsHn5t3x2wt0+uf5NlgMBbfT0Bu2598scuuca/7mq7K87KdjplSVMa0DEa\nWXOBl/ahTLG6SEN2v1d7Lqux6FuLnZ6E/IWt060XM2Wd0AAAADkBnmtqQ38AAAMAVB6EH0wE7aWG\ndiSkCpca6p6KPMNQ7kk7I8a+IPifb7RbMJOlvrteTAsAqKiMz4AAAAEDQZpwSeEKUmUwIIf//qpV\nAAADAB6DXsVqnGWsBBWrP9W5blkTwiC7z4F60ikjXb5l8bvwc1kaAR02WLzggxI3KZ7C0c/FOJ+O\n/XoIlVPvxSaHoQ6/5Snx9rE19qILy1QCCXkxzxl8XtGNoZoXGjCp/NmzskI70t+QE8170mbIg1Q0\nVmOhtrRV20eV9ok08B5g2saSjGtryTGfS46Za4yUFTezpN+0uy4QKrATXhHPRekqlKv1uUYhhWGJ\nzoYrpBbRIWnIXE/buxbp9Edwhf0t1qY2UVcWPvZIPByYF2rtEnyhN744ZKM2VYqKVxMQ6MhdSEfb\nKuXV9gp3rXxWY+O2uIV+YQAAAHpBno5FNEw7/wAAAwA6ZGnFQOebEGXGS4qz1sI8F3b1zWXJCFWr\n8AG0OwRDyN411rPTcQhynQop+zib1HTzVIYCCyHhaAUpDZ2k4kJMsHn6lWPxGEJShR4J/L9fBIdO\npOz9nK6x3DY0GmP7CtHnhC0LvyAqAZkHtABxwQAAAEoBnq10Q38AAAMAVA74NUXwMQ7+P93J25xC\n1PEeoACCWmt3oArq9Bi4ozmZnKEaG2q6v4b5PchGqaSxklR8+Ias3rEswWZrnoAM+QAAAFgBnq9q\nQ38AAAMAVB6EHvR4GGgdXJq3eI0e4gBCOFTqXXup08VKHLlmegHeQu2+XVOrDL59qcbp/FIFvV6p\nd1G+9oLV1a2C5xnnnTDsMTjJNnLTtgkwQD/AAAAAskGaskmoQWiZTBTwR//+tSqAAAADA+mlP7AJ\n5RMLKl1cPWxKwDP2qLVdN9pqg0J2QbeyUfHRMy/LcMUKdlJ9HBE/srzzTPN1ywY58AL3QKRl2qs6\n+ZBg68HENFvQfd4IrLIaTLMAPywZxSU5bLz9HraPBeIy6TpFURTB+vyyqZ8SWquJ1fADgnYNfqu1\nl36tTtKSFngcLP2pVR3WLi8cenhzCGXMrrV9Oo0SqvhJlSu6xVUAAABVAZ7RakN/AAADAFQmB8+k\n28rTn8tqGs7uVMa2WmpkMmy9CGZFaAA/hUaPgw6fbBAJzPLS1H7be4feZCuHFezGHU7mN6nkWzB5\n2oleGMAhGMaqC0BlQQAAARRBmtVJ4QpSZTAgj//+tSqAAAADA+tvOSBgEelSiXIUXyXDyJA7DjrJ\nT+1EXZ2LHeIhW9crpsEXEBB5InoDkWNDXvuIUyp6QSfSCFusr+ft7ViX/RcCPLd/KjEwZo0trja5\nctH0QogqXfigtUoI4D7DSx4dF4hVtNw1BRIGc0XQbrId9jUZu//g0ApC7EeWHg5BQnHcq0xdEc+j\nw48LziNESJdhIqHqhx1mvQBrx83smmiIGbRBIkN6hL6zABdyF2GuaLzgTZBgWgkMOZ8MPGs1zmJV\nrcyZ3RpKnowzQeuesN9Ais7difnoXjQi3FFyEzo05u1BoSYtZLj3TcQ9FI8A7fMxA6QUGtGvCCRl\nKT8XWTeHNIAAAABhQZ7zRTRMN/8AAAMAVCIqDaBnEc5vDPv8MP4bfvmkPqwIaoztB8zX5iQAAPPc\nYIUwMynh2pqswe/6USY7PhCUTUrKhtF/nHIfyjhcU4LsNWHNDMSnmoxl+hdCgMZQk6H6YAAAAGcB\nnxRqQ38AAAMAVB6EHvR0P0bdvw4urLqgQ7xmixHct2Ozel4ANqtV7AXWIMjnsON1U6R3tFMRtoCr\nlJskGqoIr9kJ7/2nO8oNXvPJXjHFlDPkOe9UHABrG75VZ+llEV9o44zfzYZhAAABFUGbF0moQWiZ\nTBTwR//+tSqAAAAPV/VwFKI/bM0VRYytaQSs/VF6X+bDSo9V8cS2L0AXOnjjnF5OaYHcEwbmlfZH\nzUnfsI6PTDB1TazW6/wImM2qrY2XkL5bRZc1qHDcBLuCWLRYlZBjpQAf71vUr4yYRbn71LT5fB/e\npD2bG2TgZ1gnjpacBf/8T74t2m12iVEeEUxeybTGyF4Et0TdIOp/u4HZ6K4i5Owj2nmsqzRxZwD5\nVW3uVPthsKS7IzwgqF1O87RzQQKjkFXEzyGZ3deEhzNADfVAEFop63Yrz8EsrEhxZuDpfKwgu8OQ\nHXLTLSmYfXehqP9NsGynoj30HIlHOQIli3FC4MMQ/hpdWLxWI0sIZkAAAABCAZ82akN/AAADAFZT\nrXD6UXIQcAavam4i36rYdRNyiACEpcmBU4x4bvRv9hY2zGJyxde+j6oXQOYtGSJhMUhhxQzBAAAA\n30GbO0nhClJlMCCH//6qVQAAAwAeg8DiYJLHa9PzHrA/cLeV/OXxV1yGPAk7wX2fRF2hs7XSN1+n\nEtFMryOCbmyttNF4MjJziqLIFA3iBUDEJPrbQ6JW8rckekNx8YGUZRXbsLIEdOTmvtOzvsILFCWM\nEGJyJphmc3llZMNqVnju39Y1Y9R6zmXttN9bPojGYTigbMC/o+3J0KIzLM9HgVPj+nGxB2m986ba\nB+2zXBq09vkspbKW3aJjSrJrMwOFQ+OT/IgeselRKweUK1/XLwhxmY+DHib9poiQQREuHD0AAABy\nQZ9ZRTRMO/8AAAMAOmIcAPuhTP894hxXAtswV/EvRXC+wqbq4pCyegZsACaLN0HpNYYkiP0aaZWf\n7fmGpc2IdmYQYDAgnVYGWX+f3fFBcj/I8e9cJqmmKWEVUE7njnY+TNrKXcvDj3HzWEhvX3bcIse9\nAAAAYwGfeHRDfwAAAwAZHq+OGVivQOKb8G1MPlgF4HNx5fLzw0gAhwooFaWEEKGNNaK4mhtPSaqb\nAAVIeG/imcZhjqwc87IvS3QVLWe6nzaeEK9cjQCIzAJQBJIRu46256Ylg0FxQwAAAGEBn3pqQ38A\nAAMAGSLrvsFbNVTt6U9LrhHnJEPHelU0J/NL3/QlABARZxXPKJexbuPrJv8lMdTqJPnQfmc0jt10\ndCodpzhrtUjfFxjHaxL+B3bTxJTqGEeYVXEkRGHabXQwAAAAwEGbfkmoQWiZTAgh//6qVQAAAwAe\noggEQIj2HFt5tu3Y6VHf8tfVnqLoFLj096piEsQGjm2SvG/8N3dHftXeUEwymAC8sWk8uXQBv6ol\n0zSNGbDeTtq7eDW6bwn01WhHXL0J8EaSqeM7192ryEHztzX69n/DbKgkXRLqTBTgWOvWoNZJSRnp\n1nKhaPQgXd8vDRyRZYpQ+1XGP5G78Wx/U7O2XxAC3JW6BQd03gUeAkhRfpOtD3vO3KL190IB7sHS\newAAAFRBn5xFESw3/wAAAwBUE8BtfHQV5NQZP4t9jfeTsuSRV03zragATRPhfs8Q90vUEDCuqaNU\nhZX0JC/IzhRzkAg6GxmGYaKzvhQTUqV8ZfRDzpZANSEAAABHAZ+9akN/AAADABki677BWzWqD0ez\nMXpz6NQoNeFABngc0sJWd466x9zgr11fRPBMI+16SsXylCz5mD7VCQpscwJNQ26L4wIAAADBQZuh\nSahBbJlMCH///qmWAAADAHc61/sRecAHewqBaIJJtX0LaJQIsUPj5Ia7xOfFZArMrt5fhPtHpZzl\nrInvptcXVYfOMYglaQqO9+Z335D8p/i68PrjL51ZAEecsBHRGhtTDflzu7/8qJBKLJqr0uzIHUv5\n3eWV9fh4/xzIlwBrvJYkaKRY/yWBMCm1ZhM8B0K2cPX9B4QUXXE2wGTJpsJXb/OQh1/pqW1Ju/+i\nYOuub+3S6yT++Yqy1i/2xRDO8wAAAFBBn99FFSw3/wAAAwAZJTZ0TolnKJ7hhikYNQmiXDFPl+zh\nGXOaWUS9A/4/seyRUDugBOsLFNpMFeaGNJNLcD2NDtJ/ET+x0N8cNXV5bUFHTQAAAEMBn+BqQ38A\nAAMAGSLu0w8UgvT5ZsAoe9eiXkerE1Dwjt/DGkC9qG4AQm59fRP8hXxWTn/5DreRm2DaobcoKILQ\ngLDWAAAAnEGb40moQWyZTBRMO//+qZYAAAMAd0xhgAifSz2te89QOrs/qtr4ViwqahaTy9Jjx/hk\nwZwlTVeuyog+v1GSsMJFczxLiyGCmmpsEf0jqgr2DmkjlORvPgEUrFJkPjDhBF7p+2Otvgfn4lFh\nXv0/rHnXFbdhEbx92AorOEUcRRjBzqh5YSUwi7jWWTCKnl4v38kolP4P0tj1XZyuLwAAAFABngJq\nQ38AAAMAVCYHz6TbytOdiLbr1zqN2pgOAqhTzDuZUAGqSwFgdZSpDZw70g9Ly9w6Smt/gbNV62L3\nfCJNRQLHoT++v/l8CiZUTvIE3AAAAD9BmgRJ4QpSZTAhv/6nhAAAAwAAEFIC0nmQAtzunZ/op5pW\nAQHu8QDiTK7yednNEseDgMV6Xl9Qwze88CWgP8EAAAdfbW9vdgAAAGxtdmhkAAAAAAAAAAAAAAAA\nAAAD6AAAJ3QAAQAAAQAAAAAAAAAAAAAAAAEAAAAAAAAAAAAAAAAAAAABAAAAAAAAAAAAAAAAAABA\nAAAAAAAAAAAAAAAAAAAAAAAAAAAAAAAAAAAAAAAAAgAABol0cmFrAAAAXHRraGQAAAADAAAAAAAA\nAAAAAAABAAAAAAAAJ3QAAAAAAAAAAAAAAAAAAAAAAAEAAAAAAAAAAAAAAAAAAAABAAAAAAAAAAAA\nAAAAAABAAAAAA2AAAAFoAAAAAAAkZWR0cwAAABxlbHN0AAAAAAAAAAEAACd0AAAIAAABAAAAAAYB\nbWRpYQAAACBtZGhkAAAAAAAAAAAAAAAAAAAoAAABlABVxAAAAAAALWhkbHIAAAAAAAAAAHZpZGUA\nAAAAAAAAAAAAAABWaWRlb0hhbmRsZXIAAAAFrG1pbmYAAAAUdm1oZAAAAAEAAAAAAAAAAAAAACRk\naW5mAAAAHGRyZWYAAAAAAAAAAQAAAAx1cmwgAAAAAQAABWxzdGJsAAAAuHN0c2QAAAAAAAAAAQAA\nAKhhdmMxAAAAAAAAAAEAAAAAAAAAAAAAAAAAAAAAA2ABaABIAAAASAAAAAAAAAABAAAAAAAAAAAA\nAAAAAAAAAAAAAAAAAAAAAAAAAAAAAAAAGP//AAAANmF2Y0MBZAAW/+EAGWdkABas2UDYL/lhAAAD\nAAEAAAMAFA8WLZYBAAZo6+PLIsD9+PgAAAAAHHV1aWRraEDyXyRPxbo5pRvPAyPzAAAAAAAAABhz\ndHRzAAAAAAAAAAEAAABlAAAEAAAAABRzdHNzAAAAAAAAAAEAAAABAAACqGN0dHMAAAAAAAAAUwAA\nAAEAAAgAAAAAAQAADAAAAAABAAAEAAAAAAEAAAgAAAAAAQAADAAAAAABAAAEAAAAAAEAAAwAAAAA\nAQAABAAAAAADAAAIAAAAAAEAAAwAAAAAAQAABAAAAAABAAAMAAAAAAEAAAQAAAAAAQAACAAAAAAB\nAAAQAAAAAAIAAAQAAAAABAAACAAAAAABAAAMAAAAAAEAAAQAAAAAAgAACAAAAAABAAAMAAAAAAEA\nAAQAAAAAAQAAEAAAAAACAAAEAAAAAAEAAAwAAAAAAQAABAAAAAABAAAIAAAAAAEAAAwAAAAAAQAA\nBAAAAAABAAAMAAAAAAEAAAQAAAAAAQAACAAAAAABAAAMAAAAAAEAAAQAAAAAAQAADAAAAAABAAAE\nAAAAAAEAAAwAAAAAAQAABAAAAAABAAAMAAAAAAEAAAQAAAAAAQAAEAAAAAACAAAEAAAAAAEAABAA\nAAAAAgAABAAAAAABAAAIAAAAAAEAABAAAAAAAgAABAAAAAABAAAQAAAAAAIAAAQAAAAAAQAADAAA\nAAABAAAEAAAAAAEAABQAAAAAAQAACAAAAAABAAAAAAAAAAEAAAQAAAAAAgAACAAAAAABAAAQAAAA\nAAIAAAQAAAAAAQAAEAAAAAACAAAEAAAAAAEAAAwAAAAAAQAABAAAAAABAAAUAAAAAAEAAAgAAAAA\nAQAAAAAAAAABAAAEAAAAAAEAAAwAAAAAAQAABAAAAAABAAAQAAAAAAIAAAQAAAAAAQAADAAAAAAB\nAAAEAAAAAAEAABQAAAAAAQAACAAAAAABAAAAAAAAAAEAAAQAAAAAAQAAEAAAAAACAAAEAAAAAAEA\nABAAAAAAAgAABAAAAAABAAAMAAAAAAEAAAQAAAAAAQAACAAAAAAcc3RzYwAAAAAAAAABAAAAAQAA\nAGUAAAABAAABqHN0c3oAAAAAAAAAAAAAAGUAABE0AAACMwAAAHoAAAD6AAAAxwAAAHoAAAD0AAAA\nbAAAAJoAAADIAAAAtwAAARcAAABZAAAA2QAAAF0AAADZAAABIgAAAFcAAABRAAAA7QAAAMcAAADg\nAAAA/AAAASAAAABQAAAAxAAAATAAAAD7AAAATwAAAQ8AAABgAAAAVQAAASoAAABiAAAA/AAAAOYA\nAABRAAAA/gAAAEwAAADjAAAA8gAAAEkAAAD5AAAAUAAAAPUAAABZAAABBwAAAE8AAAEBAAAAVQAA\nAEoAAAEiAAAAVQAAADMAAAC6AAABGgAAAGIAAABVAAABNwAAAHUAAABoAAAAyAAAAFQAAAGGAAAA\nZAAAAFkAAABQAAAAogAAAOoAAAEoAAAAWwAAAEoAAAD7AAAARwAAAEAAAAEDAAAAPQAAAQcAAAB+\nAAAATgAAAFwAAAC2AAAAWQAAARgAAABlAAAAawAAARkAAABGAAAA4wAAAHYAAABnAAAAZQAAAMQA\nAABYAAAASwAAAMUAAABUAAAARwAAAKAAAABUAAAAQwAAABRzdGNvAAAAAAAAAAEAAAAwAAAAYnVk\ndGEAAABabWV0YQAAAAAAAAAhaGRscgAAAAAAAAAAbWRpcmFwcGwAAAAAAAAAAAAAAAAtaWxzdAAA\nACWpdG9vAAAAHWRhdGEAAAABAAAAAExhdmY1OC43Ny4xMDA=\n\">\n  Your browser does not support the video tag.\n</video>"
     },
     "execution_count": 8,
     "metadata": {},
     "output_type": "execute_result"
    },
    {
     "data": {
      "text/plain": "<Figure size 432x288 with 0 Axes>"
     },
     "metadata": {},
     "output_type": "display_data"
    }
   ],
   "source": [
    "plot(vis.overlay(\n",
    "    PointCloud(Sphere(xs, radius=masses ** 0.333 / 5), bounds=Box(x=(-20, 20), y=(-20, 20))),\n",
    "    PointCloud(xs, vs * 2, bounds=Box(x=(-20, 20), y=(-20, 20)))), animate='time', frame_time=100, color=COLOR)"
   ]
  }
 ],
 "metadata": {
  "kernelspec": {
   "display_name": "Python 3",
   "language": "python",
   "name": "python3"
  },
  "language_info": {
   "codemirror_mode": {
    "name": "ipython",
    "version": 3
   },
   "file_extension": ".py",
   "mimetype": "text/x-python",
   "name": "python",
   "nbconvert_exporter": "python",
   "pygments_lexer": "ipython3",
   "version": "3.8.5"
  }
 },
 "nbformat": 4,
 "nbformat_minor": 1
}