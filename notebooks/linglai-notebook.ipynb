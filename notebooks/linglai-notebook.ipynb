{
 "cells": [
  {
   "cell_type": "code",
   "execution_count": 2,
   "metadata": {
    "collapsed": true
   },
   "outputs": [
    {
     "name": "stdout",
     "output_type": "stream",
     "text": [
      "The autoreload extension is already loaded. To reload it, use:\n",
      "  %reload_ext autoreload\n"
     ]
    }
   ],
   "source": [
    "%load_ext autoreload\n",
    "%autoreload 2\n",
    "from phi.torch.flow import *\n",
    "from tqdm.auto import tqdm"
   ]
  },
  {
   "cell_type": "code",
   "execution_count": 20,
   "outputs": [
    {
     "ename": "NotImplementedError",
     "evalue": "Tensors are not editable to preserve the autodiff chain. This feature might be added in the future. To update part of a tensor, use math.where() or math.scatter()",
     "output_type": "error",
     "traceback": [
      "\u001B[0;31m---------------------------------------------------------------------------\u001B[0m",
      "\u001B[0;31mNotImplementedError\u001B[0m                       Traceback (most recent call last)",
      "Cell \u001B[0;32mIn[20], line 23\u001B[0m\n\u001B[1;32m     19\u001B[0m     error \u001B[38;5;241m=\u001B[39m field\u001B[38;5;241m.\u001B[39ml2_loss(math\u001B[38;5;241m.\u001B[39mmean(velocity\u001B[38;5;241m.\u001B[39mvector[\u001B[38;5;124m'\u001B[39m\u001B[38;5;124my\u001B[39m\u001B[38;5;124m'\u001B[39m]\u001B[38;5;241m.\u001B[39my[\u001B[38;5;241m-\u001B[39m\u001B[38;5;241m1\u001B[39m]\u001B[38;5;241m.\u001B[39mvalues) \u001B[38;5;241m-\u001B[39m target_velocity)\n\u001B[1;32m     21\u001B[0m     \u001B[38;5;28;01mreturn\u001B[39;00m error\n\u001B[0;32m---> 23\u001B[0m \u001B[38;5;28mprint\u001B[39m(\u001B[43mfluid_simulation\u001B[49m\u001B[43m(\u001B[49m\u001B[38;5;241;43m0.5\u001B[39;49m\u001B[43m)\u001B[49m)\n\u001B[1;32m     24\u001B[0m sim_grad \u001B[38;5;241m=\u001B[39m field\u001B[38;5;241m.\u001B[39mfunctional_gradient(fluid_simulation, wrt\u001B[38;5;241m=\u001B[39m\u001B[38;5;124m'\u001B[39m\u001B[38;5;124mbottom_velocity\u001B[39m\u001B[38;5;124m'\u001B[39m, get_output\u001B[38;5;241m=\u001B[39m\u001B[38;5;28;01mTrue\u001B[39;00m)\n\u001B[1;32m     25\u001B[0m tensor \u001B[38;5;241m=\u001B[39m math\u001B[38;5;241m.\u001B[39mtensor(\u001B[38;5;241m0.5\u001B[39m)\n",
      "Cell \u001B[0;32mIn[20], line 12\u001B[0m, in \u001B[0;36mfluid_simulation\u001B[0;34m(bottom_velocity)\u001B[0m\n\u001B[1;32m     10\u001B[0m boundary \u001B[38;5;241m=\u001B[39m extrapolation\u001B[38;5;241m.\u001B[39mcombine_sides(x\u001B[38;5;241m=\u001B[39m(\u001B[38;5;241m0\u001B[39m,\u001B[38;5;241m0\u001B[39m), y\u001B[38;5;241m=\u001B[39m(ZERO_GRADIENT, ZERO_GRADIENT))\n\u001B[1;32m     11\u001B[0m velocity \u001B[38;5;241m=\u001B[39m StaggeredGrid((\u001B[38;5;241m0\u001B[39m,\u001B[38;5;241m0\u001B[39m), boundary, x\u001B[38;5;241m=\u001B[39m\u001B[38;5;241m50\u001B[39m, y\u001B[38;5;241m=\u001B[39m\u001B[38;5;241m50\u001B[39m, bounds\u001B[38;5;241m=\u001B[39mBox(x\u001B[38;5;241m=\u001B[39m\u001B[38;5;241m100\u001B[39m, y\u001B[38;5;241m=\u001B[39m\u001B[38;5;241m100\u001B[39m))\n\u001B[0;32m---> 12\u001B[0m \u001B[43mvelocity\u001B[49m\u001B[38;5;241;43m.\u001B[39;49m\u001B[43mvalues\u001B[49m\u001B[38;5;241;43m.\u001B[39;49m\u001B[43m_tensors\u001B[49m\u001B[43m[\u001B[49m\u001B[38;5;241;43m1\u001B[39;49m\u001B[43m]\u001B[49m\u001B[38;5;241;43m.\u001B[39;49m\u001B[43my\u001B[49m\u001B[43m[\u001B[49m\u001B[38;5;241;43m0\u001B[39;49m\u001B[43m]\u001B[49m \u001B[38;5;241m=\u001B[39m bottom_velocity\n\u001B[1;32m     13\u001B[0m \u001B[38;5;66;03m# print(velocity, boundary)\u001B[39;00m\n\u001B[1;32m     14\u001B[0m \u001B[38;5;66;03m# print(velocity.at_centers().values.native(velocity.at_centers().values))\u001B[39;00m\n\u001B[1;32m     16\u001B[0m \u001B[38;5;28;01mfor\u001B[39;00m _ \u001B[38;5;129;01min\u001B[39;00m tqdm(\u001B[38;5;28mrange\u001B[39m(\u001B[38;5;241m2\u001B[39m)):\n",
      "File \u001B[0;32m~/git/PhiFlow/phi/math/magic.py:520\u001B[0m, in \u001B[0;36mBoundDim.__setitem__\u001B[0;34m(self, key, value)\u001B[0m\n\u001B[1;32m    519\u001B[0m \u001B[38;5;28;01mdef\u001B[39;00m \u001B[38;5;21m__setitem__\u001B[39m(\u001B[38;5;28mself\u001B[39m, key, value):\n\u001B[0;32m--> 520\u001B[0m     \u001B[38;5;28;43mself\u001B[39;49m\u001B[38;5;241;43m.\u001B[39;49m\u001B[43mobj\u001B[49m\u001B[43m[\u001B[49m\u001B[43m{\u001B[49m\u001B[38;5;28;43mself\u001B[39;49m\u001B[38;5;241;43m.\u001B[39;49m\u001B[43mname\u001B[49m\u001B[43m:\u001B[49m\u001B[43m \u001B[49m\u001B[43mkey\u001B[49m\u001B[43m}\u001B[49m\u001B[43m]\u001B[49m \u001B[38;5;241m=\u001B[39m value\n",
      "File \u001B[0;32m~/git/PhiFlow/phi/math/_tensors.py:442\u001B[0m, in \u001B[0;36mTensor.__setitem__\u001B[0;34m(self, key, value)\u001B[0m\n\u001B[1;32m    441\u001B[0m \u001B[38;5;28;01mdef\u001B[39;00m \u001B[38;5;21m__setitem__\u001B[39m(\u001B[38;5;28mself\u001B[39m, key, value):\n\u001B[0;32m--> 442\u001B[0m     \u001B[38;5;28;01mraise\u001B[39;00m \u001B[38;5;167;01mNotImplementedError\u001B[39;00m(\u001B[38;5;124m\"\u001B[39m\u001B[38;5;124mTensors are not editable to preserve the autodiff chain. This feature might be added in the future. To update part of a tensor, use math.where() or math.scatter()\u001B[39m\u001B[38;5;124m\"\u001B[39m)\n",
      "\u001B[0;31mNotImplementedError\u001B[0m: Tensors are not editable to preserve the autodiff chain. This feature might be added in the future. To update part of a tensor, use math.where() or math.scatter()"
     ]
    }
   ],
   "source": [
    "def step(v, p, dt=1.):\n",
    "    v = advect.semi_lagrangian(v, v, dt)\n",
    "    v, _ = fluid.make_incompressible(v, (Obstacle(Box(x=(0, 40), y=(70, 110))), ), Solve('auto', 1e-5, 0, x0=p))\n",
    "    return v\n",
    "\n",
    "target_velocity = 1.0\n",
    "\n",
    "def fluid_simulation(bottom_velocity):\n",
    "    initial_pressure = None\n",
    "    boundary = extrapolation.combine_sides(x=(0,0), y=(ZERO_GRADIENT, ZERO_GRADIENT))\n",
    "    velocity = StaggeredGrid((0,0), boundary, x=50, y=50, bounds=Box(x=100, y=100))\n",
    "    velocity.values._tensors = math.scatter(velocity.values._tensors[1], math.stack((0, math.range(1, 0, 50))))\n",
    "    # velocity.values._tensors[1].y[0] = bottom_velocity\n",
    "    # print(velocity, boundary)\n",
    "    # print(velocity.at_centers().values.native(velocity.at_centers().values))\n",
    "\n",
    "    for _ in tqdm(range(2)):\n",
    "        velocity = step(velocity, initial_pressure)\n",
    "\n",
    "    error = field.l2_loss(math.mean(velocity.vector['y'].y[-1].values) - target_velocity)\n",
    "\n",
    "    return error\n",
    "\n",
    "print(fluid_simulation(0.5))\n",
    "sim_grad = field.functional_gradient(fluid_simulation, wrt='bottom_velocity', get_output=True)\n",
    "tensor = math.tensor(0.5)\n",
    "sim_grad(tensor)"
   ],
   "metadata": {
    "collapsed": false
   }
  },
  {
   "cell_type": "code",
   "execution_count": null,
   "outputs": [],
   "source": [],
   "metadata": {
    "collapsed": false
   }
  }
 ],
 "metadata": {
  "kernelspec": {
   "display_name": "Python 3",
   "language": "python",
   "name": "python3"
  },
  "language_info": {
   "codemirror_mode": {
    "name": "ipython",
    "version": 2
   },
   "file_extension": ".py",
   "mimetype": "text/x-python",
   "name": "python",
   "nbconvert_exporter": "python",
   "pygments_lexer": "ipython2",
   "version": "2.7.6"
  }
 },
 "nbformat": 4,
 "nbformat_minor": 0
}
