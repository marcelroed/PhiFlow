{
 "cells": [
  {
   "cell_type": "code",
   "execution_count": 1,
   "metadata": {
    "collapsed": true
   },
   "outputs": [],
   "source": [
    "import jax.numpy as jnp\n",
    "import jax\n",
    "import numpy as np\n",
    "import matplotlib.pyplot as plt"
   ]
  },
  {
   "cell_type": "code",
   "execution_count": 31,
   "outputs": [],
   "source": [
    "@jax.jit\n",
    "def delta_hat(phi_val, eps=0.1):\n",
    "    \"\"\"Smeared out delta function for use in the integral kernel.\"\"\"\n",
    "    return jnp.where(\n",
    "        (0 <= phi_val) & (phi_val <= eps),\n",
    "        1/eps + jnp.cos(jnp.pi * phi_val / eps) / eps,\n",
    "        0)\n"
   ],
   "metadata": {
    "collapsed": false
   }
  },
  {
   "cell_type": "code",
   "execution_count": 55,
   "outputs": [],
   "source": [
    "def circle_sdf(x):\n",
    "    \"\"\"Signed distance function for a circle.\"\"\"\n",
    "    return jnp.linalg.norm(x) - 1\n",
    "\n",
    "def box_sdf(x):\n",
    "    \"\"\"Signed distance function for a box.\"\"\"\n",
    "    # Rotate the box by 45 degrees\n",
    "    x = jnp.array([[jnp.cos(jnp.pi/4), -jnp.sin(jnp.pi/4)],\n",
    "                   [jnp.sin(jnp.pi/4), jnp.cos(jnp.pi/4)]]).dot(x)\n",
    "    return jnp.linalg.norm(x, 1) - 2 / jnp.sqrt(2)"
   ],
   "metadata": {
    "collapsed": false
   }
  },
  {
   "cell_type": "code",
   "execution_count": 56,
   "outputs": [],
   "source": [
    "sdf = box_sdf\n",
    "sdf_grad = jax.grad(sdf)"
   ],
   "metadata": {
    "collapsed": false
   }
  },
  {
   "cell_type": "code",
   "execution_count": 61,
   "outputs": [],
   "source": [
    "@jax.jit\n",
    "def integrand(x):\n",
    "    return delta_hat(sdf(x)) * jnp.linalg.norm(sdf_grad(x))\n",
    "\n",
    "# Sample integrand on a grid and plot\n",
    "grid_bounds = ((-1.5, 1.5), (-1.5, 1.5))\n",
    "x = np.linspace(grid_bounds[0][0], grid_bounds[0][1], 1000)\n",
    "y = np.linspace(grid_bounds[1][0], grid_bounds[1][1], 1000)\n",
    "X, Y = np.meshgrid(x, y)\n",
    "Z = np.zeros_like(X)\n",
    "\n",
    "for i in range(X.shape[0]):\n",
    "    for j in range(X.shape[1]):\n",
    "        Z[i, j] = integrand(np.array([X[i, j], Y[i, j]]))"
   ],
   "metadata": {
    "collapsed": false
   }
  },
  {
   "cell_type": "code",
   "execution_count": 62,
   "outputs": [
    {
     "data": {
      "text/plain": "<Figure size 640x480 with 2 Axes>",
      "image/png": "[encoded data removed]"
     },
     "metadata": {},
     "output_type": "display_data"
    }
   ],
   "source": [
    "# Plot the integrand\n",
    "plt.figure()\n",
    "plt.contourf(X, Y, Z)\n",
    "# Set aspect ratio to 1\n",
    "plt.gca().set_aspect('equal', adjustable='box')\n",
    "plt.colorbar()\n",
    "plt.show()"
   ],
   "metadata": {
    "collapsed": false
   }
  },
  {
   "cell_type": "code",
   "execution_count": null,
   "outputs": [],
   "source": [],
   "metadata": {
    "collapsed": false
   }
  }
 ],
 "metadata": {
  "kernelspec": {
   "display_name": "Python 3",
   "language": "python",
   "name": "python3"
  },
  "language_info": {
   "codemirror_mode": {
    "name": "ipython",
    "version": 2
   },
   "file_extension": ".py",
   "mimetype": "text/x-python",
   "name": "python",
   "nbconvert_exporter": "python",
   "pygments_lexer": "ipython2",
   "version": "2.7.6"
  }
 },
 "nbformat": 4,
 "nbformat_minor": 0
}
