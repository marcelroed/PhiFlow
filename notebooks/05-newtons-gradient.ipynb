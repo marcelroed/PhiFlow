{
 "cells": [
  {
   "cell_type": "code",
   "execution_count": 2,
   "metadata": {
    "collapsed": true
   },
   "outputs": [],
   "source": [
    "import jax.numpy as jnp\n",
    "import jax"
   ]
  },
  {
   "cell_type": "code",
   "execution_count": 14,
   "outputs": [],
   "source": [
    "from typing import Callable\n",
    "from functools import partial\n",
    "@partial(jax.jit, static_argnums=(0,))\n",
    "def newtons_method(f: Callable, x0: jnp.ndarray):\n",
    "    fprime = jax.grad(f)\n",
    "    def newton_step(_i, x):\n",
    "        return x - f(x) / fprime(x)\n",
    "    return jax.lax.fori_loop(0, 5, newton_step, x0)"
   ],
   "metadata": {
    "collapsed": false
   }
  },
  {
   "cell_type": "code",
   "execution_count": 21,
   "outputs": [
    {
     "name": "stdout",
     "output_type": "stream",
     "text": [
      "3.0\n"
     ]
    },
    {
     "data": {
      "text/plain": "Array(1., dtype=float32, weak_type=True)"
     },
     "execution_count": 21,
     "metadata": {},
     "output_type": "execute_result"
    }
   ],
   "source": [
    "\n",
    "y = jnp.array(3.0)\n",
    "def f(x: jnp.ndarray):\n",
    "    return x**2 - y**2\n",
    "\n",
    "newtons_method = newtons_method\n",
    "print(newtons_method(f, jnp.array(1.0)))\n",
    "jax.grad(lambda y: newtons_method(lambda x: x ** 2 - y**2, 2.0))(y)\n"
   ],
   "metadata": {
    "collapsed": false
   }
  },
  {
   "cell_type": "code",
   "execution_count": 22,
   "outputs": [],
   "source": [
    "import jax.random as jrandom\n",
    "key = jrandom.PRNGKey(0)\n",
    "x = jrandom.normal(key, (5,))"
   ],
   "metadata": {
    "collapsed": false
   }
  },
  {
   "cell_type": "code",
   "execution_count": 23,
   "outputs": [
    {
     "data": {
      "text/plain": "Array([ 0.18784384, -1.2833426 , -0.2710917 ,  1.2490594 ,  0.24447003],      dtype=float32)"
     },
     "execution_count": 23,
     "metadata": {},
     "output_type": "execute_result"
    }
   ],
   "source": [
    "x"
   ],
   "metadata": {
    "collapsed": false
   }
  },
  {
   "cell_type": "code",
   "execution_count": 34,
   "outputs": [],
   "source": [
    "def function(v):\n",
    "    return jnp.dot((v > 0).astype(jnp.float32), v)"
   ],
   "metadata": {
    "collapsed": false
   }
  },
  {
   "cell_type": "code",
   "execution_count": 35,
   "outputs": [
    {
     "data": {
      "text/plain": "Array([1., 0., 0., 1., 1.], dtype=float32)"
     },
     "execution_count": 35,
     "metadata": {},
     "output_type": "execute_result"
    }
   ],
   "source": [
    "jax.grad(function)(x)"
   ],
   "metadata": {
    "collapsed": false
   }
  },
  {
   "cell_type": "code",
   "execution_count": null,
   "outputs": [],
   "source": [],
   "metadata": {
    "collapsed": false
   }
  }
 ],
 "metadata": {
  "kernelspec": {
   "display_name": "Python 3",
   "language": "python",
   "name": "python3"
  },
  "language_info": {
   "codemirror_mode": {
    "name": "ipython",
    "version": 2
   },
   "file_extension": ".py",
   "mimetype": "text/x-python",
   "name": "python",
   "nbconvert_exporter": "python",
   "pygments_lexer": "ipython2",
   "version": "2.7.6"
  }
 },
 "nbformat": 4,
 "nbformat_minor": 0
}
