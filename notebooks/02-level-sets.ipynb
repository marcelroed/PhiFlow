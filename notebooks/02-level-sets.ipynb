{
 "cells": [
  {
   "cell_type": "code",
   "execution_count": 1,
   "metadata": {
    "collapsed": true
   },
   "outputs": [
    {
     "name": "stdout",
     "output_type": "stream",
     "text": [
      "/Users/marcel/git/PhiFlow/notebooks\n",
      "/Users/marcel/git/PhiFlow\n"
     ]
    }
   ],
   "source": [
    "import numpy as np\n",
    "import matplotlib.pyplot as plt\n",
    "import os\n",
    "print(os.getcwd())\n",
    "# Change directory to the root of the repository\n",
    "os.chdir('..')\n",
    "print(os.getcwd())"
   ]
  },
  {
   "cell_type": "code",
   "execution_count": 2,
   "metadata": {
    "collapsed": false
   },
   "outputs": [],
   "source": [
    "from phi.jax.flow import *"
   ]
  },
  {
   "cell_type": "code",
   "execution_count": 3,
   "metadata": {
    "collapsed": false
   },
   "outputs": [],
   "source": [
    "import point_cloud_utils as pcu\n"
   ]
  },
  {
   "cell_type": "code",
   "execution_count": 4,
   "metadata": {
    "collapsed": false
   },
   "outputs": [
    {
     "name": "stderr",
     "output_type": "stream",
     "text": [
      "/opt/homebrew/Caskroom/miniforge/base/envs/differentiable-coupling/lib/python3.10/site-packages/pytorch3d/datasets/shapenet/shapenet_core.py:114: UserWarning: The following categories are included in ShapeNetCore ver.2's official mapping but not found in the dataset location data/ShapeNetCore.v2: 03642806, 03759954, 02818832, 04099429, 04225987, 02871439, 04090263, 03948459, 03211117, 03710193, 02747177, 02843684, 03207941, 04330267, 02958343, 03593526, 02773838, 03928116, 03085013, 03691459, 03046257, 02924116, 03513137, 03337140, 04256520, 03636649, 03790512, 02828884, 03938244, 04460130, 03325088, 02691156, 02808440, 03797390, 02946921, 02992529, 02933112, 04379243, 02954340, 04468005, 03761084, 02880940, 03991062, 02876657, 04554684, 03261776, 04074963, 02801938, 02942699, 03467517, 03001627, 04401088, 03624134, 04004475\n",
      "  warnings.warn(msg)\n"
     ]
    },
    {
     "name": "stdout",
     "output_type": "stream",
     "text": [
      "['airplane', 'trash bin', 'bag', 'basket', 'bathtub', 'bed', 'bench', 'birdhouse', 'bookshelf', 'bottle', 'bowl', 'bus', 'cabinet', 'camera', 'can', 'cap', 'car', 'cellphone', 'chair', 'clock', 'keyboard', 'dishwasher', 'display', 'earphone', 'faucet', 'file cabinet', 'guitar', 'helmet', 'jar', 'knife', 'lamp', 'laptop', 'loudspeaker', 'mailbox', 'microphone', 'microwaves', 'motorbike', 'mug', 'piano', 'pillow', 'pistol', 'flowerpot', 'printer', 'remote', 'rifle', 'rocket', 'skateboard', 'sofa', 'stove', 'table', 'telephone', 'tower', 'train', 'watercraft', 'washer']\n"
     ]
    }
   ],
   "source": [
    "# Download meshes using PyTorch Geometric\n",
    "from pytorch3d.datasets.shapenet import ShapeNetCore\n",
    "\n",
    "# Create a directory to store the data\n",
    "shapenet_dataset = ShapeNetCore(data_dir='data/ShapeNetCore.v2', synsets=['watercraft'], version=2, load_textures=False)\n",
    "print(list(shapenet_dataset.synset_dict.values()))"
   ]
  },
  {
   "cell_type": "code",
   "execution_count": 5,
   "metadata": {
    "collapsed": false
   },
   "outputs": [
    {
     "data": {
      "text/plain": "{'synset_id': '04530566',\n 'model_id': '6a0da87e5858b4373e45dd2f173cbf9b',\n 'verts': tensor([[ 0.0616, -0.0442, -0.1398],\n         [ 0.0616, -0.0447, -0.1399],\n         [ 0.0616, -0.0442, -0.1399],\n         ...,\n         [-0.0014, -0.1220,  0.0110],\n         [-0.0013, -0.1220,  0.0111],\n         [-0.0179,  0.0785, -0.2876]]),\n 'faces': tensor([[    0,     1,     2],\n         [    1,     0,     3],\n         [    2,     1,     0],\n         ...,\n         [73306, 73307, 73310],\n         [73307, 73310, 73309],\n         [73309, 73310, 73307]]),\n 'textures': None,\n 'label': 'watercraft'}"
     },
     "execution_count": 5,
     "metadata": {},
     "output_type": "execute_result"
    }
   ],
   "source": [
    "shapenet_dataset[0]"
   ]
  },
  {
   "cell_type": "code",
   "execution_count": 6,
   "metadata": {},
   "outputs": [
    {
     "name": "stdout",
     "output_type": "stream",
     "text": [
      "Renderers configuration\n",
      "-----------------------\n",
      "    Default renderer: 'plotly_mimetype+notebook'\n",
      "    Available renderers:\n",
      "        ['plotly_mimetype', 'jupyterlab', 'nteract', 'vscode',\n",
      "         'notebook', 'notebook_connected', 'kaggle', 'azure', 'colab',\n",
      "         'cocalc', 'databricks', 'json', 'png', 'jpeg', 'jpg', 'svg',\n",
      "         'pdf', 'browser', 'firefox', 'chrome', 'chromium', 'iframe',\n",
      "         'iframe_connected', 'sphinx_gallery', 'sphinx_gallery_png']\n",
      "\n"
     ]
    }
   ],
   "source": [
    "import plotly.io as pio\n",
    "print(pio.renderers)\n",
    "pio.renderers.default = \"browser\""
   ]
  },
  {
   "cell_type": "code",
   "execution_count": 7,
   "metadata": {
    "collapsed": false
   },
   "outputs": [],
   "source": [
    "import plotly.graph_objects as go\n",
    "\n",
    "def render_mesh(mesh):\n",
    "    verts, faces = mesh['verts'], mesh['faces']\n",
    "    # Render the mesh using plotly\n",
    "    fig = go.Figure(\n",
    "        data=[go.Mesh3d(x=verts[:, 0], y=verts[:, 1], z=verts[:, 2],\n",
    "                        i=faces[:, 0], j=faces[:, 1], k=faces[:, 2], # opacity=0.5,\n",
    "                        # lightposition=dict(x=0, y=0, z=0.2)\n",
    "                        )\n",
    "              ],)\n",
    "    # Keep the aspect ratio of the mesh\n",
    "    fig.update_layout(scene_aspectmode='data')\n",
    "    # Set dark mode\n",
    "    fig.update_layout(template='plotly_dark')\n",
    "    fig.show()\n",
    "\n",
    "for i in range(5):\n",
    "    render_mesh(shapenet_dataset[i])"
   ]
  },
  {
   "cell_type": "code",
   "execution_count": null,
   "metadata": {
    "collapsed": false
   },
   "outputs": [],
   "source": [
    "from pathlib import Path\n",
    "\n",
    "def get_sdf_grid_from_mesh(grid_points, mesh):\n",
    "    signed_distances, face_ids, barycentric_coords = pcu.signed_distance_to_mesh(grid_points, mesh['verts'], mesh['faces'], lower_bound=-100, upper_bound=1000)\n",
    "\n",
    "    return signed_distances\n",
    "\n",
    "def watertight_mesh(mesh):\n",
    "    verts, faces = pcu.make_mesh_watertight(mesh['verts'], mesh['faces'], resolution=20_000)\n",
    "    return {'verts': verts, 'faces': faces}\n",
    "\n"
   ]
  }
 ],
 "metadata": {
  "kernelspec": {
   "display_name": "differentiable-coupling",
   "language": "python",
   "name": "python3"
  },
  "language_info": {
   "codemirror_mode": {
    "name": "ipython",
    "version": 3
   },
   "file_extension": ".py",
   "mimetype": "text/x-python",
   "name": "python",
   "nbconvert_exporter": "python",
   "pygments_lexer": "ipython3",
   "version": "3.10.9"
  },
  "vscode": {
   "interpreter": {
    "hash": "52234f67f140159efd6d040420044ed3a0d67c79e5e506df88a56619741e3ebb"
   }
  }
 },
 "nbformat": 4,
 "nbformat_minor": 0
}
